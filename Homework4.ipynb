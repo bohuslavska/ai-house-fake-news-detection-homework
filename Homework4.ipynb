{
  "nbformat": 4,
  "nbformat_minor": 0,
  "metadata": {
    "colab": {
      "provenance": [],
      "mount_file_id": "1erZN6NqyfqQ5y9njUxWLK_ZscrQMMZ-3",
      "authorship_tag": "ABX9TyNNYi4YMkwu95+e7h4dDSoI",
      "include_colab_link": true
    },
    "kernelspec": {
      "name": "python3",
      "display_name": "Python 3"
    },
    "language_info": {
      "name": "python"
    },
    "accelerator": "TPU",
    "gpuClass": "standard"
  },
  "cells": [
    {
      "cell_type": "markdown",
      "metadata": {
        "id": "view-in-github",
        "colab_type": "text"
      },
      "source": [
        "<a href=\"https://colab.research.google.com/github/bohuslavska/ai-house-fake-news-detection-homework/blob/master/Homework4.ipynb\" target=\"_parent\"><img src=\"https://colab.research.google.com/assets/colab-badge.svg\" alt=\"Open In Colab\"/></a>"
      ]
    },
    {
      "cell_type": "code",
      "execution_count": 1,
      "metadata": {
        "colab": {
          "base_uri": "https://localhost:8080/"
        },
        "id": "ZzGclyZ_1Gej",
        "outputId": "edada041-49dd-40f2-a134-de7509ff7de2"
      },
      "outputs": [
        {
          "output_type": "stream",
          "name": "stderr",
          "text": [
            "[nltk_data] Downloading package stopwords to /root/nltk_data...\n",
            "[nltk_data]   Package stopwords is already up-to-date!\n",
            "[nltk_data] Downloading package punkt to /root/nltk_data...\n",
            "[nltk_data]   Package punkt is already up-to-date!\n",
            "/usr/local/lib/python3.8/dist-packages/torch/cuda/__init__.py:497: UserWarning: Can't initialize NVML\n",
            "  warnings.warn(\"Can't initialize NVML\")\n"
          ]
        }
      ],
      "source": [
        "import os\n",
        "import calendar\n",
        "\n",
        "import pandas as pd\n",
        "import numpy as np \n",
        "import nltk\n",
        "nltk.download('stopwords')\n",
        "nltk.download('punkt')\n",
        "import spacy\n",
        "import torch\n",
        "import torch.nn as nn\n",
        "import re\n",
        "import string\n",
        "from langdetect import detect as detect_lang\n",
        "\n",
        "from matplotlib import pyplot as plt\n",
        "from nltk.corpus import stopwords\n",
        "from nltk import tokenize\n",
        "from wordcloud import WordCloud, STOPWORDS\n",
        "\n",
        "from sklearn.feature_extraction.text import CountVectorizer, TfidfVectorizer\n",
        "from sentence_transformers import SentenceTransformer\n",
        "from sklearn.model_selection import train_test_split, StratifiedKFold, TimeSeriesSplit\n",
        "from sklearn.pipeline import Pipeline\n",
        "from sklearn.linear_model import LogisticRegression\n",
        "from sklearn.metrics import roc_auc_score\n",
        "from sklearn.preprocessing import StandardScaler\n",
        "from sklearn.multioutput import MultiOutputClassifier\n",
        "from sklearn.model_selection import GridSearchCV\n",
        "\n",
        "\n",
        "from torchtext.data.utils import get_tokenizer\n",
        "from torchtext.vocab import build_vocab_from_iterator\n",
        "import seaborn as sns\n",
        "from tqdm import tqdm\n",
        "\n",
        "from copy import deepcopy\n",
        "from sklearn.metrics import roc_auc_score, accuracy_score, confusion_matrix, ConfusionMatrixDisplay\n",
        "\n",
        "import ru_core_news_lg\n",
        "nlp = ru_core_news_lg.load()"
      ]
    },
    {
      "cell_type": "code",
      "source": [
        "from google.colab import drive\n",
        "drive.mount('/content/drive')"
      ],
      "metadata": {
        "colab": {
          "base_uri": "https://localhost:8080/"
        },
        "id": "HZNj9XiKHCvH",
        "outputId": "7b35c02b-2041-4c2c-bf3c-e810f747c91a"
      },
      "execution_count": 2,
      "outputs": [
        {
          "output_type": "stream",
          "name": "stdout",
          "text": [
            "Drive already mounted at /content/drive; to attempt to forcibly remount, call drive.mount(\"/content/drive\", force_remount=True).\n"
          ]
        }
      ]
    },
    {
      "cell_type": "markdown",
      "source": [
        "# In this homework I will continue to explore dataset propaganda-detection-our-data. As far as Short EDA is a part of Homework3 I will skip it in a current notebook and move forward instantly to the text processing and modification of the datasets."
      ],
      "metadata": {
        "id": "OCKA4VEeJBEN"
      }
    },
    {
      "cell_type": "code",
      "source": [
        "df_train = pd.read_csv('/content/drive/MyDrive/RNN_beginning/fake_detection_df_train.csv')\n",
        "df_val = pd.read_csv('/content/drive/MyDrive/RNN_beginning/fake_detection_df_val.csv')\n",
        "df_test = pd.read_csv('/content/drive/MyDrive/RNN_beginning/fake_detection_df_test.csv')\n",
        "\n",
        "combined = [df_train, df_val, df_test]"
      ],
      "metadata": {
        "id": "PDKQwN3m8cWX"
      },
      "execution_count": 3,
      "outputs": []
    },
    {
      "cell_type": "code",
      "source": [
        "def detect_lang_with_excep(input):\n",
        "    try:\n",
        "        return detect_lang(input)\n",
        "    except:\n",
        "        return \"none\"\n",
        "        \n",
        "for d in combined:\n",
        "  d[\"lang\"] = d[\"text\"].apply(detect_lang_with_excep)\n",
        "  print(d[\"lang\"].value_counts())"
      ],
      "metadata": {
        "colab": {
          "base_uri": "https://localhost:8080/"
        },
        "id": "eRiw2Ixgaceh",
        "outputId": "e4a86cda-fcfc-48d7-ea1b-98ac2bdbcde0"
      },
      "execution_count": 4,
      "outputs": [
        {
          "output_type": "stream",
          "name": "stdout",
          "text": [
            "ru    867\n",
            "bg      7\n",
            "uk      2\n",
            "mk      2\n",
            "da      1\n",
            "so      1\n",
            "Name: lang, dtype: int64\n",
            "ru    123\n",
            "ro      1\n",
            "en      1\n",
            "bg      1\n",
            "et      1\n",
            "Name: lang, dtype: int64\n",
            "ru      242\n",
            "uk        4\n",
            "none      1\n",
            "bg        1\n",
            "Name: lang, dtype: int64\n"
          ]
        }
      ]
    },
    {
      "cell_type": "code",
      "source": [
        "#Function for the text preprocessing.\n",
        "\n",
        "nlp = spacy.load('ru_core_news_lg')\n",
        "\n",
        "def remove_emojis(data):\n",
        "    emoj = re.compile(\"[\"\n",
        "        u\"\\U00002700-\\U000027BF\"  # Dingbats\n",
        "        u\"\\U0001F600-\\U0001F64F\"  # Emoticons\n",
        "        u\"\\U00002600-\\U000026FF\"  # Miscellaneous Symbols\n",
        "        u\"\\U0001F300-\\U0001F5FF\"  # Miscellaneous Symbols And Pictographs\n",
        "        u\"\\U0001F900-\\U0001F9FF\"  # Supplemental Symbols and Pictographs\n",
        "        u\"\\U0001FA70-\\U0001FAFF\"  # Symbols and Pictographs Extended-A\n",
        "        u\"\\U0001F680-\\U0001F6FF\"  # Transport and Map Symbols\n",
        "                      \"]+\", re.UNICODE)\n",
        "    return re.sub(emoj, '', data)\n",
        "\n",
        "def text_preprocessing(text):\n",
        "    text = remove_emojis(text)\n",
        "    russian_stop_words = stopwords.words('russian')\n",
        "    lower_text = [i.lower() for i in text]\n",
        "    custom_punct = string.punctuation +\"«\" + \"»‎\"\n",
        "    no_latin = [i for i in lower_text if i not in list(string.ascii_letters)]\n",
        "    no_punct = [i for i in no_latin if i not in list(custom_punct)]\n",
        "    no_punct = ''.join(no_punct)\n",
        "    no_sw = [i for i in no_punct.split() if i not in russian_stop_words]\n",
        "    no_sw = ' '.join(no_sw)\n",
        "    document = nlp(no_sw)\n",
        "    result = \" \".join([token.lemma_ for token in document])\n",
        "    return result"
      ],
      "metadata": {
        "id": "-ni6yIBjO0ev"
      },
      "execution_count": 5,
      "outputs": []
    },
    {
      "cell_type": "code",
      "source": [
        "for d in combined:\n",
        "  d['preprocessed_text'] = d['text'].apply(lambda x: text_preprocessing(x))\n",
        "\n",
        "df_train"
      ],
      "metadata": {
        "colab": {
          "base_uri": "https://localhost:8080/",
          "height": 424
        },
        "id": "8NBHIm3WPIjv",
        "outputId": "7ecb243a-90bc-4f99-f5be-850af5878c0a"
      },
      "execution_count": 6,
      "outputs": [
        {
          "output_type": "execute_result",
          "data": {
            "text/plain": [
              "              id                                               text  label  \\\n",
              "0    00000_03514  Чернигов прилет во многоэтажку. Говорят русска...   True   \n",
              "1    00002_06059  Председатель Следственного комитета РФ Алексан...   True   \n",
              "2    00003_08645         Все сейчас массово хотят уехать со Львова.   True   \n",
              "3    00004_00901  «К военным подошли бабушки и попросили убрать ...   True   \n",
              "4    00006_06251  С уважение отношусь к Лобаеву, но Владислав, е...   True   \n",
              "..           ...                                                ...    ...   \n",
              "875  08891_03363  ?? ?? ? Появились цели захватить Москву, Чечню...   True   \n",
              "876  08892_01638  В украинских пабликах пишут, что российский сп...   True   \n",
              "877  08893_03217  Сообщается, что в дом попала ракета ПВО ВС Укр...   True   \n",
              "878  08896_08921  В Росавиации сообщили , что с сегодняшнего дня...   True   \n",
              "879  08897_07401  Военкор Котенок: Хорошая цель для наводки ВСК ...   True   \n",
              "\n",
              "    lang                                  preprocessed_text  \n",
              "0     ru  чернигов прилёт многоэтажка говорить русский р...  \n",
              "1     ru  председатель следственный комитет рф александр...  \n",
              "2     ru                        массово хотеть уехать львов  \n",
              "3     ru  военный подойти бабушка попросить убрать аллея...  \n",
              "4     ru  уважение относиться лобаеву владислав вопрос п...  \n",
              "..   ...                                                ...  \n",
              "875   ru  появиться цель захватить москва чечня крым обр...  \n",
              "876   ru  украинских пабликах писать российский спецназ ...  \n",
              "877   ru       сообщаться дом попасть ракета пво вс украина  \n",
              "878   ru  росавиации сообщить сегодняшний день россия ог...  \n",
              "879   ru  военкор котёнок хороший цель наводка вск артил...  \n",
              "\n",
              "[880 rows x 5 columns]"
            ],
            "text/html": [
              "\n",
              "  <div id=\"df-4b37b887-daae-4e27-8e13-d684b86abeff\">\n",
              "    <div class=\"colab-df-container\">\n",
              "      <div>\n",
              "<style scoped>\n",
              "    .dataframe tbody tr th:only-of-type {\n",
              "        vertical-align: middle;\n",
              "    }\n",
              "\n",
              "    .dataframe tbody tr th {\n",
              "        vertical-align: top;\n",
              "    }\n",
              "\n",
              "    .dataframe thead th {\n",
              "        text-align: right;\n",
              "    }\n",
              "</style>\n",
              "<table border=\"1\" class=\"dataframe\">\n",
              "  <thead>\n",
              "    <tr style=\"text-align: right;\">\n",
              "      <th></th>\n",
              "      <th>id</th>\n",
              "      <th>text</th>\n",
              "      <th>label</th>\n",
              "      <th>lang</th>\n",
              "      <th>preprocessed_text</th>\n",
              "    </tr>\n",
              "  </thead>\n",
              "  <tbody>\n",
              "    <tr>\n",
              "      <th>0</th>\n",
              "      <td>00000_03514</td>\n",
              "      <td>Чернигов прилет во многоэтажку. Говорят русска...</td>\n",
              "      <td>True</td>\n",
              "      <td>ru</td>\n",
              "      <td>чернигов прилёт многоэтажка говорить русский р...</td>\n",
              "    </tr>\n",
              "    <tr>\n",
              "      <th>1</th>\n",
              "      <td>00002_06059</td>\n",
              "      <td>Председатель Следственного комитета РФ Алексан...</td>\n",
              "      <td>True</td>\n",
              "      <td>ru</td>\n",
              "      <td>председатель следственный комитет рф александр...</td>\n",
              "    </tr>\n",
              "    <tr>\n",
              "      <th>2</th>\n",
              "      <td>00003_08645</td>\n",
              "      <td>Все сейчас массово хотят уехать со Львова.</td>\n",
              "      <td>True</td>\n",
              "      <td>ru</td>\n",
              "      <td>массово хотеть уехать львов</td>\n",
              "    </tr>\n",
              "    <tr>\n",
              "      <th>3</th>\n",
              "      <td>00004_00901</td>\n",
              "      <td>«К военным подошли бабушки и попросили убрать ...</td>\n",
              "      <td>True</td>\n",
              "      <td>ru</td>\n",
              "      <td>военный подойти бабушка попросить убрать аллея...</td>\n",
              "    </tr>\n",
              "    <tr>\n",
              "      <th>4</th>\n",
              "      <td>00006_06251</td>\n",
              "      <td>С уважение отношусь к Лобаеву, но Владислав, е...</td>\n",
              "      <td>True</td>\n",
              "      <td>ru</td>\n",
              "      <td>уважение относиться лобаеву владислав вопрос п...</td>\n",
              "    </tr>\n",
              "    <tr>\n",
              "      <th>...</th>\n",
              "      <td>...</td>\n",
              "      <td>...</td>\n",
              "      <td>...</td>\n",
              "      <td>...</td>\n",
              "      <td>...</td>\n",
              "    </tr>\n",
              "    <tr>\n",
              "      <th>875</th>\n",
              "      <td>08891_03363</td>\n",
              "      <td>?? ?? ? Появились цели захватить Москву, Чечню...</td>\n",
              "      <td>True</td>\n",
              "      <td>ru</td>\n",
              "      <td>появиться цель захватить москва чечня крым обр...</td>\n",
              "    </tr>\n",
              "    <tr>\n",
              "      <th>876</th>\n",
              "      <td>08892_01638</td>\n",
              "      <td>В украинских пабликах пишут, что российский сп...</td>\n",
              "      <td>True</td>\n",
              "      <td>ru</td>\n",
              "      <td>украинских пабликах писать российский спецназ ...</td>\n",
              "    </tr>\n",
              "    <tr>\n",
              "      <th>877</th>\n",
              "      <td>08893_03217</td>\n",
              "      <td>Сообщается, что в дом попала ракета ПВО ВС Укр...</td>\n",
              "      <td>True</td>\n",
              "      <td>ru</td>\n",
              "      <td>сообщаться дом попасть ракета пво вс украина</td>\n",
              "    </tr>\n",
              "    <tr>\n",
              "      <th>878</th>\n",
              "      <td>08896_08921</td>\n",
              "      <td>В Росавиации сообщили , что с сегодняшнего дня...</td>\n",
              "      <td>True</td>\n",
              "      <td>ru</td>\n",
              "      <td>росавиации сообщить сегодняшний день россия ог...</td>\n",
              "    </tr>\n",
              "    <tr>\n",
              "      <th>879</th>\n",
              "      <td>08897_07401</td>\n",
              "      <td>Военкор Котенок: Хорошая цель для наводки ВСК ...</td>\n",
              "      <td>True</td>\n",
              "      <td>ru</td>\n",
              "      <td>военкор котёнок хороший цель наводка вск артил...</td>\n",
              "    </tr>\n",
              "  </tbody>\n",
              "</table>\n",
              "<p>880 rows × 5 columns</p>\n",
              "</div>\n",
              "      <button class=\"colab-df-convert\" onclick=\"convertToInteractive('df-4b37b887-daae-4e27-8e13-d684b86abeff')\"\n",
              "              title=\"Convert this dataframe to an interactive table.\"\n",
              "              style=\"display:none;\">\n",
              "        \n",
              "  <svg xmlns=\"http://www.w3.org/2000/svg\" height=\"24px\"viewBox=\"0 0 24 24\"\n",
              "       width=\"24px\">\n",
              "    <path d=\"M0 0h24v24H0V0z\" fill=\"none\"/>\n",
              "    <path d=\"M18.56 5.44l.94 2.06.94-2.06 2.06-.94-2.06-.94-.94-2.06-.94 2.06-2.06.94zm-11 1L8.5 8.5l.94-2.06 2.06-.94-2.06-.94L8.5 2.5l-.94 2.06-2.06.94zm10 10l.94 2.06.94-2.06 2.06-.94-2.06-.94-.94-2.06-.94 2.06-2.06.94z\"/><path d=\"M17.41 7.96l-1.37-1.37c-.4-.4-.92-.59-1.43-.59-.52 0-1.04.2-1.43.59L10.3 9.45l-7.72 7.72c-.78.78-.78 2.05 0 2.83L4 21.41c.39.39.9.59 1.41.59.51 0 1.02-.2 1.41-.59l7.78-7.78 2.81-2.81c.8-.78.8-2.07 0-2.86zM5.41 20L4 18.59l7.72-7.72 1.47 1.35L5.41 20z\"/>\n",
              "  </svg>\n",
              "      </button>\n",
              "      \n",
              "  <style>\n",
              "    .colab-df-container {\n",
              "      display:flex;\n",
              "      flex-wrap:wrap;\n",
              "      gap: 12px;\n",
              "    }\n",
              "\n",
              "    .colab-df-convert {\n",
              "      background-color: #E8F0FE;\n",
              "      border: none;\n",
              "      border-radius: 50%;\n",
              "      cursor: pointer;\n",
              "      display: none;\n",
              "      fill: #1967D2;\n",
              "      height: 32px;\n",
              "      padding: 0 0 0 0;\n",
              "      width: 32px;\n",
              "    }\n",
              "\n",
              "    .colab-df-convert:hover {\n",
              "      background-color: #E2EBFA;\n",
              "      box-shadow: 0px 1px 2px rgba(60, 64, 67, 0.3), 0px 1px 3px 1px rgba(60, 64, 67, 0.15);\n",
              "      fill: #174EA6;\n",
              "    }\n",
              "\n",
              "    [theme=dark] .colab-df-convert {\n",
              "      background-color: #3B4455;\n",
              "      fill: #D2E3FC;\n",
              "    }\n",
              "\n",
              "    [theme=dark] .colab-df-convert:hover {\n",
              "      background-color: #434B5C;\n",
              "      box-shadow: 0px 1px 3px 1px rgba(0, 0, 0, 0.15);\n",
              "      filter: drop-shadow(0px 1px 2px rgba(0, 0, 0, 0.3));\n",
              "      fill: #FFFFFF;\n",
              "    }\n",
              "  </style>\n",
              "\n",
              "      <script>\n",
              "        const buttonEl =\n",
              "          document.querySelector('#df-4b37b887-daae-4e27-8e13-d684b86abeff button.colab-df-convert');\n",
              "        buttonEl.style.display =\n",
              "          google.colab.kernel.accessAllowed ? 'block' : 'none';\n",
              "\n",
              "        async function convertToInteractive(key) {\n",
              "          const element = document.querySelector('#df-4b37b887-daae-4e27-8e13-d684b86abeff');\n",
              "          const dataTable =\n",
              "            await google.colab.kernel.invokeFunction('convertToInteractive',\n",
              "                                                     [key], {});\n",
              "          if (!dataTable) return;\n",
              "\n",
              "          const docLinkHtml = 'Like what you see? Visit the ' +\n",
              "            '<a target=\"_blank\" href=https://colab.research.google.com/notebooks/data_table.ipynb>data table notebook</a>'\n",
              "            + ' to learn more about interactive tables.';\n",
              "          element.innerHTML = '';\n",
              "          dataTable['output_type'] = 'display_data';\n",
              "          await google.colab.output.renderOutput(dataTable, element);\n",
              "          const docLink = document.createElement('div');\n",
              "          docLink.innerHTML = docLinkHtml;\n",
              "          element.appendChild(docLink);\n",
              "        }\n",
              "      </script>\n",
              "    </div>\n",
              "  </div>\n",
              "  "
            ]
          },
          "metadata": {},
          "execution_count": 6
        }
      ]
    },
    {
      "cell_type": "code",
      "source": [
        "for d in combined:\n",
        "  print(d.shape)\n",
        "  d.drop_duplicates(inplace=True)\n",
        "  d.drop(d[d.lang != 'ru'].index, inplace=True)\n",
        "  d.drop(columns = ['id', 'text', 'lang'], inplace = True)\n",
        "  d['label'] = d['label'] * 1\n",
        "  d.reset_index(drop = True, inplace = True)\n",
        "  print(d.shape)"
      ],
      "metadata": {
        "colab": {
          "base_uri": "https://localhost:8080/"
        },
        "id": "3PfYdzX6PM_C",
        "outputId": "9fc89ec0-ca0d-4b1c-cdfa-ab06b21f07c1"
      },
      "execution_count": 7,
      "outputs": [
        {
          "output_type": "stream",
          "name": "stdout",
          "text": [
            "(880, 5)\n",
            "(867, 2)\n",
            "(127, 5)\n",
            "(123, 2)\n",
            "(248, 5)\n",
            "(242, 2)\n"
          ]
        }
      ]
    },
    {
      "cell_type": "markdown",
      "source": [
        "# Hyperparameter tuning for different combinations of models and vectorizers"
      ],
      "metadata": {
        "id": "ClqRo7QoQPRW"
      }
    },
    {
      "cell_type": "markdown",
      "source": [
        "###CountVectorizer + LogisticRegression"
      ],
      "metadata": {
        "id": "oaX5yYwVHuO3"
      }
    },
    {
      "cell_type": "code",
      "source": [
        "skf = StratifiedKFold(n_splits=5, random_state=42, shuffle=True)\n",
        "all_folds = [i for i in skf.split(df_train['preprocessed_text'], df_train['label'])]"
      ],
      "metadata": {
        "id": "B3yHlFaP7Cn_"
      },
      "execution_count": 8,
      "outputs": []
    },
    {
      "cell_type": "code",
      "source": [
        "all_train_preds = []\n",
        "all_test_preds = []\n",
        "all_train_targets = []\n",
        "all_test_targets = []\n",
        "all_models = []\n",
        "\n",
        "model_dict = {}\n",
        "test_scores = []\n",
        "\n",
        "for fold_id, (train_index, test_index) in enumerate(all_folds):\n",
        "        X_train_fold, X_test_fold = df_train['preprocessed_text'][train_index], df_train['preprocessed_text'][test_index]\n",
        "        y_train_fold, y_test_fold = df_train['label'][train_index], df_train['label'][test_index]\n",
        "\n",
        "        model = Pipeline([(\"vectorizer\", CountVectorizer()),\n",
        "        (\"log_reg\", LogisticRegression())])\n",
        "\n",
        "        params = {\n",
        "        'vectorizer__max_df': (0.5, 0.75, 1.0),\n",
        "        'vectorizer__max_features': [None, 5000, 10000, 50000],\n",
        "        'vectorizer__ngram_range': [(1, 1), (1, 2), (1,3)],\n",
        "        'log_reg__penalty': ['l2'],\n",
        "        'log_reg__solver' : ('newton-cg', 'lbfgs', 'liblinear'),\n",
        "        'log_reg__C' : [100, 10, 1.0, 0.1, 0.01]}\n",
        "\n",
        "        GridSearch_LR = GridSearchCV(model, params, scoring='roc_auc', n_jobs = -1, cv = 3)\n",
        "        \n",
        "        GridSearch_LR.fit(X_train_fold, y_train_fold)\n",
        "\n",
        "        print(f'For {fold_id} fold the best model is {GridSearch_LR.best_estimator_}')\n",
        "\n",
        "        all_models.append(GridSearch_LR)\n",
        "        \n",
        "        fold_train_preds = GridSearch_LR.predict_proba(X_train_fold)[:,1]\n",
        "        fold_test_preds = GridSearch_LR.predict_proba(X_test_fold)[:,1]\n",
        "\n",
        "        fold_train_targets = y_train_fold.values\n",
        "        fold_test_targets = y_test_fold.values\n",
        "\n",
        "        all_train_preds.append(fold_train_preds)\n",
        "        all_test_preds.append(fold_test_preds)\n",
        "\n",
        "        all_train_targets.append(fold_train_targets)\n",
        "        all_test_targets.append(fold_test_targets)\n",
        "\n",
        "        test_roc_auc = roc_auc_score(fold_test_targets, fold_test_preds)\n",
        "        \n",
        "        test_scores.append(test_roc_auc)  \n",
        "\n",
        "        for_dict = {test_roc_auc: GridSearch_LR.best_estimator_}\n",
        "        model_dict.update(for_dict)\n",
        "\n",
        "        print(f'{fold_id}')\n",
        "        print('Train Roc Auc Score:', roc_auc_score(fold_train_targets, fold_train_preds))\n",
        "        print('Test Roc Auc Score:', test_roc_auc)"
      ],
      "metadata": {
        "colab": {
          "base_uri": "https://localhost:8080/"
        },
        "id": "h0bSdUmiPNI8",
        "outputId": "5bf36169-6f50-4208-9200-58a6310790bb"
      },
      "execution_count": 9,
      "outputs": [
        {
          "output_type": "stream",
          "name": "stdout",
          "text": [
            "For 0 fold the best model is Pipeline(steps=[('vectorizer', CountVectorizer(max_df=0.5, ngram_range=(1, 3))),\n",
            "                ('log_reg', LogisticRegression(C=0.01, solver='liblinear'))])\n",
            "0\n",
            "Train Roc Auc Score: 0.9882042003689513\n",
            "Test Roc Auc Score: 0.7147494707127734\n",
            "For 1 fold the best model is Pipeline(steps=[('vectorizer', CountVectorizer(max_df=0.5, ngram_range=(1, 3))),\n",
            "                ('log_reg', LogisticRegression(C=0.01, solver='newton-cg'))])\n",
            "1\n",
            "Train Roc Auc Score: 0.9907976550008882\n",
            "Test Roc Auc Score: 0.7105780022446689\n",
            "For 2 fold the best model is Pipeline(steps=[('vectorizer', CountVectorizer(max_df=0.5, ngram_range=(1, 3))),\n",
            "                ('log_reg', LogisticRegression(C=0.01, solver='newton-cg'))])\n",
            "2\n",
            "Train Roc Auc Score: 0.9858600338014211\n",
            "Test Roc Auc Score: 0.7578347578347577\n",
            "For 3 fold the best model is Pipeline(steps=[('vectorizer', CountVectorizer(max_df=0.5, ngram_range=(1, 3))),\n",
            "                ('log_reg', LogisticRegression(C=0.01))])\n",
            "3\n",
            "Train Roc Auc Score: 0.9904258802084717\n",
            "Test Roc Auc Score: 0.692022792022792\n",
            "For 4 fold the best model is Pipeline(steps=[('vectorizer', CountVectorizer(max_df=0.5, ngram_range=(1, 3))),\n",
            "                ('log_reg', LogisticRegression(C=0.01, solver='newton-cg'))])\n",
            "4\n",
            "Train Roc Auc Score: 0.9872758001291888\n",
            "Test Roc Auc Score: 0.7444444444444445\n"
          ]
        }
      ]
    },
    {
      "cell_type": "code",
      "source": [
        "all_train_preds = np.concatenate(all_train_preds)\n",
        "all_test_preds = np.concatenate(all_test_preds)\n",
        "all_train_targets = np.concatenate(all_train_targets)\n",
        "all_test_targets = np.concatenate(all_test_targets)\n",
        "\n",
        "print(\"OOF Train:\", roc_auc_score(all_train_targets, all_train_preds));\n",
        "print(\"OOF Test:\", roc_auc_score(all_test_targets, all_test_preds));"
      ],
      "metadata": {
        "id": "BYQVHq1kYboY",
        "colab": {
          "base_uri": "https://localhost:8080/"
        },
        "outputId": "d9e0fe48-7ab2-4182-c08f-0a03a4910d89"
      },
      "execution_count": 10,
      "outputs": [
        {
          "output_type": "stream",
          "name": "stdout",
          "text": [
            "OOF Train: 0.9844180567683114\n",
            "OOF Test: 0.7176099701756575\n"
          ]
        }
      ]
    },
    {
      "cell_type": "code",
      "source": [
        "#Choosing the best model\n",
        "\n",
        "key = max(test_scores)\n",
        "best_lr_cv = model_dict[key]\n",
        "print('The best model is', best_lr_cv)"
      ],
      "metadata": {
        "colab": {
          "base_uri": "https://localhost:8080/"
        },
        "id": "R7gckV5rTfcl",
        "outputId": "dd928a84-dbac-4222-f3c8-13d2516f63c5"
      },
      "execution_count": 11,
      "outputs": [
        {
          "output_type": "stream",
          "name": "stdout",
          "text": [
            "The best model is Pipeline(steps=[('vectorizer', CountVectorizer(max_df=0.5, ngram_range=(1, 3))),\n",
            "                ('log_reg', LogisticRegression(C=0.01, solver='newton-cg'))])\n"
          ]
        }
      ]
    },
    {
      "cell_type": "markdown",
      "source": [
        "### Tfidfvectorizer + LogisticRegression\n",
        "\n"
      ],
      "metadata": {
        "id": "LR6YzJxgJ3NT"
      }
    },
    {
      "cell_type": "code",
      "source": [
        "all_train_preds = []\n",
        "all_test_preds = []\n",
        "all_train_targets = []\n",
        "all_test_targets = []\n",
        "all_models = []\n",
        "\n",
        "model_dict = {}\n",
        "test_scores = []\n",
        "\n",
        "for fold_id, (train_index, test_index) in enumerate(all_folds):\n",
        "        X_train_fold, X_test_fold = df_train['preprocessed_text'][train_index], df_train['preprocessed_text'][test_index]\n",
        "        y_train_fold, y_test_fold = df_train['label'][train_index], df_train['label'][test_index]\n",
        "\n",
        "        model = Pipeline([(\"vectorizer\", TfidfVectorizer()),\n",
        "        (\"log_reg\", LogisticRegression())])\n",
        "\n",
        "        params = {\n",
        "            'vectorizer__max_df': (0.5, 0.75, 1.0),\n",
        "            'vectorizer__max_features': [None, 5000, 10000, 50000],\n",
        "            'vectorizer__ngram_range': [(1, 1), (1, 2), (1,3)],\n",
        "            'vectorizer__use_idf': (True, False),\n",
        "            'vectorizer__norm': ('l1', 'l2', None),\n",
        "            'log_reg__penalty': ['l2'],\n",
        "            'log_reg__solver' : ('newton-cg', 'lbfgs', 'liblinear'),\n",
        "            'log_reg__C' : [100, 10, 1.0, 0.1, 0.01]}\n",
        "\n",
        "        GridSearch_LR = GridSearchCV(model, params, scoring='roc_auc', n_jobs = -1, cv = 3)\n",
        "        \n",
        "        GridSearch_LR.fit(X_train_fold, y_train_fold)\n",
        "\n",
        "        print(f'For {fold_id} fold the best model is {GridSearch_LR.best_estimator_}')\n",
        "\n",
        "        fold_train_preds = GridSearch_LR.predict_proba(X_train_fold)[:,1]\n",
        "        fold_test_preds = GridSearch_LR.predict_proba(X_test_fold)[:,1]\n",
        "\n",
        "        fold_train_targets = y_train_fold.values\n",
        "        fold_test_targets = y_test_fold.values\n",
        "\n",
        "        all_train_preds.append(fold_train_preds)\n",
        "        all_test_preds.append(fold_test_preds)\n",
        "        all_train_targets.append(fold_train_targets)\n",
        "        all_test_targets.append(fold_test_targets)\n",
        "\n",
        "        test_scores.append(test_roc_auc)        \n",
        "        for_dict = {test_roc_auc: GridSearch_LR.best_estimator_}\n",
        "        model_dict.update(for_dict)\n",
        "\n",
        "        print(f'{fold_id}')\n",
        "        print('Train Roc Auc Score:', roc_auc_score(fold_train_targets, fold_train_preds))\n",
        "        print('Test Roc Auc Score:', roc_auc_score(fold_test_targets, fold_test_preds))"
      ],
      "metadata": {
        "colab": {
          "base_uri": "https://localhost:8080/"
        },
        "id": "OHvPB6EketjG",
        "outputId": "24248ddf-01ed-43d1-e0f1-71c0573b1a44"
      },
      "execution_count": 13,
      "outputs": [
        {
          "output_type": "stream",
          "name": "stdout",
          "text": [
            "For 0 fold the best model is Pipeline(steps=[('vectorizer',\n",
            "                 TfidfVectorizer(max_df=0.5, ngram_range=(1, 3), norm=None,\n",
            "                                 use_idf=False)),\n",
            "                ('log_reg', LogisticRegression(C=0.01, solver='liblinear'))])\n",
            "0\n",
            "Train Roc Auc Score: 0.9882042003689513\n",
            "Test Roc Auc Score: 0.7147494707127734\n",
            "For 1 fold the best model is Pipeline(steps=[('vectorizer',\n",
            "                 TfidfVectorizer(max_df=0.5, ngram_range=(1, 3), norm=None,\n",
            "                                 use_idf=False)),\n",
            "                ('log_reg', LogisticRegression(C=0.01, solver='newton-cg'))])\n",
            "1\n",
            "Train Roc Auc Score: 0.9907976550008882\n",
            "Test Roc Auc Score: 0.7105780022446689\n",
            "For 2 fold the best model is Pipeline(steps=[('vectorizer',\n",
            "                 TfidfVectorizer(max_df=0.5, ngram_range=(1, 3), norm=None)),\n",
            "                ('log_reg', LogisticRegression(C=0.01, solver='liblinear'))])\n",
            "2\n",
            "Train Roc Auc Score: 1.0\n",
            "Test Roc Auc Score: 0.7417378917378917\n",
            "For 3 fold the best model is Pipeline(steps=[('vectorizer',\n",
            "                 TfidfVectorizer(max_df=0.5, ngram_range=(1, 3), norm=None,\n",
            "                                 use_idf=False)),\n",
            "                ('log_reg', LogisticRegression(C=0.01))])\n",
            "3\n",
            "Train Roc Auc Score: 0.9904258802084717\n",
            "Test Roc Auc Score: 0.692022792022792\n",
            "For 4 fold the best model is Pipeline(steps=[('vectorizer',\n",
            "                 TfidfVectorizer(max_df=0.5, ngram_range=(1, 3), norm=None,\n",
            "                                 use_idf=False)),\n",
            "                ('log_reg', LogisticRegression(C=0.01, solver='newton-cg'))])\n",
            "4\n",
            "Train Roc Auc Score: 0.9872758001291888\n",
            "Test Roc Auc Score: 0.7444444444444445\n"
          ]
        }
      ]
    },
    {
      "cell_type": "code",
      "source": [
        "all_train_preds = np.concatenate(all_train_preds)\n",
        "all_test_preds = np.concatenate(all_test_preds)\n",
        "all_train_targets = np.concatenate(all_train_targets)\n",
        "all_test_targets = np.concatenate(all_test_targets)\n",
        "\n",
        "print(\"OOF Train:\", roc_auc_score(all_train_targets, all_train_preds));\n",
        "print(\"OOF Test:\", roc_auc_score(all_test_targets, all_test_preds));"
      ],
      "metadata": {
        "id": "yButF8vYcYFQ",
        "colab": {
          "base_uri": "https://localhost:8080/"
        },
        "outputId": "19960322-1dc1-4011-8419-fecb13674cff"
      },
      "execution_count": 14,
      "outputs": [
        {
          "output_type": "stream",
          "name": "stdout",
          "text": [
            "OOF Train: 0.9900508743181792\n",
            "OOF Test: 0.7152739190093329\n"
          ]
        }
      ]
    },
    {
      "cell_type": "code",
      "source": [
        "#Choosing the best model\n",
        "\n",
        "key = max(test_scores)\n",
        "best_lr_tf = model_dict[key]\n",
        "print(\"The best model is\", best_lr_tf)"
      ],
      "metadata": {
        "colab": {
          "base_uri": "https://localhost:8080/"
        },
        "id": "pcPtIUacUFS2",
        "outputId": "06166db1-72ec-4bff-bf4a-d3a02749f77d"
      },
      "execution_count": 15,
      "outputs": [
        {
          "output_type": "stream",
          "name": "stdout",
          "text": [
            "The best model is Pipeline(steps=[('vectorizer',\n",
            "                 TfidfVectorizer(max_df=0.5, ngram_range=(1, 3), norm=None,\n",
            "                                 use_idf=False)),\n",
            "                ('log_reg', LogisticRegression(C=0.01, solver='newton-cg'))])\n"
          ]
        }
      ]
    },
    {
      "cell_type": "markdown",
      "source": [
        "### Sentence Embeddings + Logistic Regression"
      ],
      "metadata": {
        "id": "hbm7vVlcu9nm"
      }
    },
    {
      "cell_type": "code",
      "source": [
        "train = pd.read_csv('/content/drive/MyDrive/RNN_beginning/fake_detection_df_train.csv')\n",
        "val = pd.read_csv('/content/drive/MyDrive/RNN_beginning/fake_detection_df_val.csv')\n",
        "test = pd.read_csv('/content/drive/MyDrive/RNN_beginning/fake_detection_df_test.csv')\n",
        "\n",
        "combined = [train, val, test]"
      ],
      "metadata": {
        "id": "PXy9kTDGx1io"
      },
      "execution_count": 61,
      "outputs": []
    },
    {
      "cell_type": "code",
      "source": [
        "# Here we create a function for light text preprocessing so that transformer can benefit from more text information.\n",
        "\n",
        "\n",
        "def light_preprocessing(text):\n",
        "    text = remove_emojis(text)\n",
        "    lower_text = [i.lower() for i in text]\n",
        "    custom_punct = string.punctuation +\"«\" + \"»‎\"\n",
        "    no_latin = [i for i in lower_text if i not in list(string.ascii_letters)]\n",
        "    no_punct = [i for i in no_latin if i not in list(custom_punct)]\n",
        "    no_punct = ''.join(no_punct)\n",
        "    return no_punct\n",
        "\n",
        "for d in combined:\n",
        "  d['preprocessed_light'] = d['text'].apply(lambda x: light_preprocessing(x))\n",
        "\n",
        "train"
      ],
      "metadata": {
        "colab": {
          "base_uri": "https://localhost:8080/",
          "height": 424
        },
        "id": "-HJHiVWWvJ29",
        "outputId": "6f2bbe3e-7d2b-4ad4-f33e-0d0e5d52c801"
      },
      "execution_count": 62,
      "outputs": [
        {
          "output_type": "execute_result",
          "data": {
            "text/plain": [
              "              id                                               text  label  \\\n",
              "0    00000_03514  Чернигов прилет во многоэтажку. Говорят русска...   True   \n",
              "1    00002_06059  Председатель Следственного комитета РФ Алексан...   True   \n",
              "2    00003_08645         Все сейчас массово хотят уехать со Львова.   True   \n",
              "3    00004_00901  «К военным подошли бабушки и попросили убрать ...   True   \n",
              "4    00006_06251  С уважение отношусь к Лобаеву, но Владислав, е...   True   \n",
              "..           ...                                                ...    ...   \n",
              "875  08891_03363  ?? ?? ? Появились цели захватить Москву, Чечню...   True   \n",
              "876  08892_01638  В украинских пабликах пишут, что российский сп...   True   \n",
              "877  08893_03217  Сообщается, что в дом попала ракета ПВО ВС Укр...   True   \n",
              "878  08896_08921  В Росавиации сообщили , что с сегодняшнего дня...   True   \n",
              "879  08897_07401  Военкор Котенок: Хорошая цель для наводки ВСК ...   True   \n",
              "\n",
              "                                    preprocessed_light  \n",
              "0    чернигов прилет во многоэтажку говорят русская...  \n",
              "1    председатель следственного комитета рф алексан...  \n",
              "2            все сейчас массово хотят уехать со львова  \n",
              "3    к военным подошли бабушки и попросили убрать а...  \n",
              "4    с уважение отношусь к лобаеву но владислав есл...  \n",
              "..                                                 ...  \n",
              "875     появились цели захватить москву чечню и кры...  \n",
              "876  в украинских пабликах пишут что российский спе...  \n",
              "877  сообщается что в дом попала ракета пво вс украины  \n",
              "878  в росавиации сообщили  что с сегодняшнего дня ...  \n",
              "879  военкор котенок хорошая цель для наводки вск и...  \n",
              "\n",
              "[880 rows x 4 columns]"
            ],
            "text/html": [
              "\n",
              "  <div id=\"df-7fd7ee88-6a26-4626-9413-31f616755cfd\">\n",
              "    <div class=\"colab-df-container\">\n",
              "      <div>\n",
              "<style scoped>\n",
              "    .dataframe tbody tr th:only-of-type {\n",
              "        vertical-align: middle;\n",
              "    }\n",
              "\n",
              "    .dataframe tbody tr th {\n",
              "        vertical-align: top;\n",
              "    }\n",
              "\n",
              "    .dataframe thead th {\n",
              "        text-align: right;\n",
              "    }\n",
              "</style>\n",
              "<table border=\"1\" class=\"dataframe\">\n",
              "  <thead>\n",
              "    <tr style=\"text-align: right;\">\n",
              "      <th></th>\n",
              "      <th>id</th>\n",
              "      <th>text</th>\n",
              "      <th>label</th>\n",
              "      <th>preprocessed_light</th>\n",
              "    </tr>\n",
              "  </thead>\n",
              "  <tbody>\n",
              "    <tr>\n",
              "      <th>0</th>\n",
              "      <td>00000_03514</td>\n",
              "      <td>Чернигов прилет во многоэтажку. Говорят русска...</td>\n",
              "      <td>True</td>\n",
              "      <td>чернигов прилет во многоэтажку говорят русская...</td>\n",
              "    </tr>\n",
              "    <tr>\n",
              "      <th>1</th>\n",
              "      <td>00002_06059</td>\n",
              "      <td>Председатель Следственного комитета РФ Алексан...</td>\n",
              "      <td>True</td>\n",
              "      <td>председатель следственного комитета рф алексан...</td>\n",
              "    </tr>\n",
              "    <tr>\n",
              "      <th>2</th>\n",
              "      <td>00003_08645</td>\n",
              "      <td>Все сейчас массово хотят уехать со Львова.</td>\n",
              "      <td>True</td>\n",
              "      <td>все сейчас массово хотят уехать со львова</td>\n",
              "    </tr>\n",
              "    <tr>\n",
              "      <th>3</th>\n",
              "      <td>00004_00901</td>\n",
              "      <td>«К военным подошли бабушки и попросили убрать ...</td>\n",
              "      <td>True</td>\n",
              "      <td>к военным подошли бабушки и попросили убрать а...</td>\n",
              "    </tr>\n",
              "    <tr>\n",
              "      <th>4</th>\n",
              "      <td>00006_06251</td>\n",
              "      <td>С уважение отношусь к Лобаеву, но Владислав, е...</td>\n",
              "      <td>True</td>\n",
              "      <td>с уважение отношусь к лобаеву но владислав есл...</td>\n",
              "    </tr>\n",
              "    <tr>\n",
              "      <th>...</th>\n",
              "      <td>...</td>\n",
              "      <td>...</td>\n",
              "      <td>...</td>\n",
              "      <td>...</td>\n",
              "    </tr>\n",
              "    <tr>\n",
              "      <th>875</th>\n",
              "      <td>08891_03363</td>\n",
              "      <td>?? ?? ? Появились цели захватить Москву, Чечню...</td>\n",
              "      <td>True</td>\n",
              "      <td>появились цели захватить москву чечню и кры...</td>\n",
              "    </tr>\n",
              "    <tr>\n",
              "      <th>876</th>\n",
              "      <td>08892_01638</td>\n",
              "      <td>В украинских пабликах пишут, что российский сп...</td>\n",
              "      <td>True</td>\n",
              "      <td>в украинских пабликах пишут что российский спе...</td>\n",
              "    </tr>\n",
              "    <tr>\n",
              "      <th>877</th>\n",
              "      <td>08893_03217</td>\n",
              "      <td>Сообщается, что в дом попала ракета ПВО ВС Укр...</td>\n",
              "      <td>True</td>\n",
              "      <td>сообщается что в дом попала ракета пво вс украины</td>\n",
              "    </tr>\n",
              "    <tr>\n",
              "      <th>878</th>\n",
              "      <td>08896_08921</td>\n",
              "      <td>В Росавиации сообщили , что с сегодняшнего дня...</td>\n",
              "      <td>True</td>\n",
              "      <td>в росавиации сообщили  что с сегодняшнего дня ...</td>\n",
              "    </tr>\n",
              "    <tr>\n",
              "      <th>879</th>\n",
              "      <td>08897_07401</td>\n",
              "      <td>Военкор Котенок: Хорошая цель для наводки ВСК ...</td>\n",
              "      <td>True</td>\n",
              "      <td>военкор котенок хорошая цель для наводки вск и...</td>\n",
              "    </tr>\n",
              "  </tbody>\n",
              "</table>\n",
              "<p>880 rows × 4 columns</p>\n",
              "</div>\n",
              "      <button class=\"colab-df-convert\" onclick=\"convertToInteractive('df-7fd7ee88-6a26-4626-9413-31f616755cfd')\"\n",
              "              title=\"Convert this dataframe to an interactive table.\"\n",
              "              style=\"display:none;\">\n",
              "        \n",
              "  <svg xmlns=\"http://www.w3.org/2000/svg\" height=\"24px\"viewBox=\"0 0 24 24\"\n",
              "       width=\"24px\">\n",
              "    <path d=\"M0 0h24v24H0V0z\" fill=\"none\"/>\n",
              "    <path d=\"M18.56 5.44l.94 2.06.94-2.06 2.06-.94-2.06-.94-.94-2.06-.94 2.06-2.06.94zm-11 1L8.5 8.5l.94-2.06 2.06-.94-2.06-.94L8.5 2.5l-.94 2.06-2.06.94zm10 10l.94 2.06.94-2.06 2.06-.94-2.06-.94-.94-2.06-.94 2.06-2.06.94z\"/><path d=\"M17.41 7.96l-1.37-1.37c-.4-.4-.92-.59-1.43-.59-.52 0-1.04.2-1.43.59L10.3 9.45l-7.72 7.72c-.78.78-.78 2.05 0 2.83L4 21.41c.39.39.9.59 1.41.59.51 0 1.02-.2 1.41-.59l7.78-7.78 2.81-2.81c.8-.78.8-2.07 0-2.86zM5.41 20L4 18.59l7.72-7.72 1.47 1.35L5.41 20z\"/>\n",
              "  </svg>\n",
              "      </button>\n",
              "      \n",
              "  <style>\n",
              "    .colab-df-container {\n",
              "      display:flex;\n",
              "      flex-wrap:wrap;\n",
              "      gap: 12px;\n",
              "    }\n",
              "\n",
              "    .colab-df-convert {\n",
              "      background-color: #E8F0FE;\n",
              "      border: none;\n",
              "      border-radius: 50%;\n",
              "      cursor: pointer;\n",
              "      display: none;\n",
              "      fill: #1967D2;\n",
              "      height: 32px;\n",
              "      padding: 0 0 0 0;\n",
              "      width: 32px;\n",
              "    }\n",
              "\n",
              "    .colab-df-convert:hover {\n",
              "      background-color: #E2EBFA;\n",
              "      box-shadow: 0px 1px 2px rgba(60, 64, 67, 0.3), 0px 1px 3px 1px rgba(60, 64, 67, 0.15);\n",
              "      fill: #174EA6;\n",
              "    }\n",
              "\n",
              "    [theme=dark] .colab-df-convert {\n",
              "      background-color: #3B4455;\n",
              "      fill: #D2E3FC;\n",
              "    }\n",
              "\n",
              "    [theme=dark] .colab-df-convert:hover {\n",
              "      background-color: #434B5C;\n",
              "      box-shadow: 0px 1px 3px 1px rgba(0, 0, 0, 0.15);\n",
              "      filter: drop-shadow(0px 1px 2px rgba(0, 0, 0, 0.3));\n",
              "      fill: #FFFFFF;\n",
              "    }\n",
              "  </style>\n",
              "\n",
              "      <script>\n",
              "        const buttonEl =\n",
              "          document.querySelector('#df-7fd7ee88-6a26-4626-9413-31f616755cfd button.colab-df-convert');\n",
              "        buttonEl.style.display =\n",
              "          google.colab.kernel.accessAllowed ? 'block' : 'none';\n",
              "\n",
              "        async function convertToInteractive(key) {\n",
              "          const element = document.querySelector('#df-7fd7ee88-6a26-4626-9413-31f616755cfd');\n",
              "          const dataTable =\n",
              "            await google.colab.kernel.invokeFunction('convertToInteractive',\n",
              "                                                     [key], {});\n",
              "          if (!dataTable) return;\n",
              "\n",
              "          const docLinkHtml = 'Like what you see? Visit the ' +\n",
              "            '<a target=\"_blank\" href=https://colab.research.google.com/notebooks/data_table.ipynb>data table notebook</a>'\n",
              "            + ' to learn more about interactive tables.';\n",
              "          element.innerHTML = '';\n",
              "          dataTable['output_type'] = 'display_data';\n",
              "          await google.colab.output.renderOutput(dataTable, element);\n",
              "          const docLink = document.createElement('div');\n",
              "          docLink.innerHTML = docLinkHtml;\n",
              "          element.appendChild(docLink);\n",
              "        }\n",
              "      </script>\n",
              "    </div>\n",
              "  </div>\n",
              "  "
            ]
          },
          "metadata": {},
          "execution_count": 62
        }
      ]
    },
    {
      "cell_type": "code",
      "source": [
        "for d in combined:\n",
        "  print(d.shape)\n",
        "  d.drop_duplicates(inplace=True)\n",
        "  d.drop(columns = ['id', 'text'], inplace = True)\n",
        "  d['label'] = d['label'] * 1\n",
        "  d.reset_index(drop = True, inplace = True)\n",
        "  print(d.shape)"
      ],
      "metadata": {
        "colab": {
          "base_uri": "https://localhost:8080/"
        },
        "id": "UlTYFEbgyhcs",
        "outputId": "1c9732f1-897c-4965-9094-c13b24cfa0f5"
      },
      "execution_count": 63,
      "outputs": [
        {
          "output_type": "stream",
          "name": "stdout",
          "text": [
            "(880, 4)\n",
            "(880, 2)\n",
            "(127, 4)\n",
            "(127, 2)\n",
            "(248, 4)\n",
            "(248, 2)\n"
          ]
        }
      ]
    },
    {
      "cell_type": "code",
      "source": [
        "#I have chosen distiluse-base-multilingual-cased-v1 model because it supports russian.\n",
        "\n",
        "sent_tr = SentenceTransformer('distiluse-base-multilingual-cased-v1', device=\"cpu\")"
      ],
      "metadata": {
        "id": "iXDYhxNVyhlE"
      },
      "execution_count": 64,
      "outputs": []
    },
    {
      "cell_type": "code",
      "source": [
        "train_embs = sent_tr.encode(train[\"preprocessed_light\"].to_list())\n",
        "val_embs = sent_tr.encode(val[\"preprocessed_light\"].to_list())\n",
        "test_embs = sent_tr.encode(test[\"preprocessed_light\"].to_list())"
      ],
      "metadata": {
        "id": "KpOinNzAyhnx"
      },
      "execution_count": 65,
      "outputs": []
    },
    {
      "cell_type": "code",
      "source": [
        "all_train_preds = []\n",
        "all_test_preds = []\n",
        "all_train_targets = []\n",
        "all_test_targets = []\n",
        "all_models = []\n",
        "\n",
        "model_dict = {}\n",
        "test_scores = []\n",
        "\n",
        "params = {'log_reg__solver' : ('newton-cg', 'lbfgs', 'liblinear'),\n",
        "            'log_reg__C' : [100, 10, 1.0, 0.1, 0.01]}\n",
        "\n",
        "for fold_id, (train_index, test_index) in enumerate(all_folds):\n",
        "\n",
        "        X_train_fold, X_test_fold = train_embs[train_index], train_embs[test_index]\n",
        "        y_train_fold, y_test_fold = train['label'][train_index], train['label'][test_index]\n",
        "\n",
        "        model = Pipeline([\n",
        "            (\"scaler\", StandardScaler()),\n",
        "            (\"log_reg\", LogisticRegression(max_iter = 10000))])\n",
        "        \n",
        "        params = {\n",
        "        'log_reg__solver' : ('newton-cg', 'lbfgs', 'liblinear'),\n",
        "        'log_reg__C' : [100, 10, 1.0, 0.1, 0.01]}\n",
        "\n",
        "        GridSearch_LR = GridSearchCV(model, params, scoring='roc_auc', n_jobs = -1, cv = 3)\n",
        "        \n",
        "        GridSearch_LR.fit(X_train_fold, y_train_fold)\n",
        "\n",
        "        print(f'For {fold_id} fold the best model is {GridSearch_LR.best_estimator_}')\n",
        "\n",
        "        all_models.append(GridSearch_LR)\n",
        "        \n",
        "        fold_train_preds = GridSearch_LR.predict_proba(X_train_fold)[:,1]\n",
        "        fold_test_preds = GridSearch_LR.predict_proba(X_test_fold)[:,1]\n",
        "\n",
        "        fold_train_targets = y_train_fold.values\n",
        "        fold_test_targets = y_test_fold.values\n",
        "\n",
        "        all_train_preds.append(fold_train_preds)\n",
        "        all_test_preds.append(fold_test_preds)\n",
        "        all_train_targets.append(fold_train_targets)\n",
        "        all_test_targets.append(fold_test_targets)\n",
        "\n",
        "        test_scores.append(test_roc_auc)        \n",
        "        for_dict = {test_roc_auc: GridSearch_LR.best_estimator_}\n",
        "        model_dict.update(for_dict)\n",
        "\n",
        "        print(f'{fold_id}')\n",
        "        print('Train Roc Auc Score:', roc_auc_score(fold_train_targets, fold_train_preds))\n",
        "        print('Test Roc Auc Score:', roc_auc_score(fold_test_targets, fold_test_preds))"
      ],
      "metadata": {
        "colab": {
          "base_uri": "https://localhost:8080/"
        },
        "id": "ZS9qOR_U0R3q",
        "outputId": "bd8fcc8a-39e5-40eb-f17c-89a5c25b5955"
      },
      "execution_count": 66,
      "outputs": [
        {
          "output_type": "stream",
          "name": "stdout",
          "text": [
            "For 0 fold the best model is Pipeline(steps=[('scaler', StandardScaler()),\n",
            "                ('log_reg', LogisticRegression(C=0.01, max_iter=10000))])\n",
            "0\n",
            "Train Roc Auc Score: 0.937067822088602\n",
            "Test Roc Auc Score: 0.7475500345065563\n"
          ]
        },
        {
          "output_type": "stream",
          "name": "stderr",
          "text": [
            "/usr/local/lib/python3.8/dist-packages/scipy/optimize/linesearch.py:327: LineSearchWarning: The line search algorithm did not converge\n",
            "  warn('The line search algorithm did not converge', LineSearchWarning)\n",
            "/usr/local/lib/python3.8/dist-packages/sklearn/utils/optimize.py:203: UserWarning: Line Search failed\n",
            "  warnings.warn(\"Line Search failed\")\n"
          ]
        },
        {
          "output_type": "stream",
          "name": "stdout",
          "text": [
            "For 1 fold the best model is Pipeline(steps=[('scaler', StandardScaler()),\n",
            "                ('log_reg',\n",
            "                 LogisticRegression(C=0.01, max_iter=10000,\n",
            "                                    solver='newton-cg'))])\n",
            "1\n",
            "Train Roc Auc Score: 0.9376972715157467\n",
            "Test Roc Auc Score: 0.6995566995566995\n",
            "For 2 fold the best model is Pipeline(steps=[('scaler', StandardScaler()),\n",
            "                ('log_reg', LogisticRegression(C=0.01, max_iter=10000))])\n",
            "2\n",
            "Train Roc Auc Score: 0.9309325734651928\n",
            "Test Roc Auc Score: 0.7454013377926421\n"
          ]
        },
        {
          "output_type": "stream",
          "name": "stderr",
          "text": [
            "/usr/local/lib/python3.8/dist-packages/scipy/optimize/linesearch.py:327: LineSearchWarning: The line search algorithm did not converge\n",
            "  warn('The line search algorithm did not converge', LineSearchWarning)\n",
            "/usr/local/lib/python3.8/dist-packages/sklearn/utils/optimize.py:203: UserWarning: Line Search failed\n",
            "  warnings.warn(\"Line Search failed\")\n"
          ]
        },
        {
          "output_type": "stream",
          "name": "stdout",
          "text": [
            "For 3 fold the best model is Pipeline(steps=[('scaler', StandardScaler()),\n",
            "                ('log_reg',\n",
            "                 LogisticRegression(C=0.01, max_iter=10000,\n",
            "                                    solver='newton-cg'))])\n",
            "3\n",
            "Train Roc Auc Score: 0.9331042988019733\n",
            "Test Roc Auc Score: 0.7107843137254901\n",
            "For 4 fold the best model is Pipeline(steps=[('scaler', StandardScaler()),\n",
            "                ('log_reg', LogisticRegression(C=0.01, max_iter=10000))])\n",
            "4\n",
            "Train Roc Auc Score: 0.9355346599606386\n",
            "Test Roc Auc Score: 0.7161616161616162\n"
          ]
        }
      ]
    },
    {
      "cell_type": "code",
      "source": [
        "all_train_preds = np.concatenate(all_train_preds)\n",
        "all_test_preds = np.concatenate(all_test_preds)\n",
        "all_train_targets = np.concatenate(all_train_targets)\n",
        "all_test_targets = np.concatenate(all_test_targets)\n",
        "\n",
        "\n",
        "print(\"OOF Train:\", roc_auc_score(all_train_targets, all_train_preds));\n",
        "print(\"OOF Test:\", roc_auc_score(all_test_targets, all_test_preds));"
      ],
      "metadata": {
        "colab": {
          "base_uri": "https://localhost:8080/"
        },
        "id": "kJ9m1DpOU8hN",
        "outputId": "e66e36df-c558-490d-e57b-4c8d0d3b9998"
      },
      "execution_count": 67,
      "outputs": [
        {
          "output_type": "stream",
          "name": "stdout",
          "text": [
            "OOF Train: 0.9349263877941674\n",
            "OOF Test: 0.7238430356941786\n"
          ]
        }
      ]
    },
    {
      "cell_type": "code",
      "source": [
        "#Choosing the best model\n",
        "\n",
        "key = max(test_scores)\n",
        "best_emb = model_dict[key]\n",
        "print(\"The best model is\", best_emb)"
      ],
      "metadata": {
        "colab": {
          "base_uri": "https://localhost:8080/"
        },
        "id": "JqOEiN8pUxhi",
        "outputId": "0ee028e0-be45-46c9-8eba-10a2aa1cad8a"
      },
      "execution_count": 68,
      "outputs": [
        {
          "output_type": "stream",
          "name": "stdout",
          "text": [
            "The best model is Pipeline(steps=[('scaler', StandardScaler()),\n",
            "                ('log_reg', LogisticRegression(C=0.01, max_iter=10000))])\n"
          ]
        }
      ]
    },
    {
      "cell_type": "markdown",
      "source": [
        "#How The Best Models Perform On Validation And Test Datasets\n"
      ],
      "metadata": {
        "id": "3146pKsmBG51"
      }
    },
    {
      "cell_type": "code",
      "source": [
        "#Here we use classification_report function from workshop \"Instrumnets for detecting fake news\"\n",
        "\n",
        "def classification_report (train_probs, train_real, train_texts, test_probs, test_real, test_texts, val_probs,val_real,val_texts,tresh=0.5):\n",
        "  \n",
        "    train_texts = np.array(train_texts)\n",
        "    test_texts = np.array(test_texts)\n",
        "    val_texts = np.array(val_texts)\n",
        "\n",
        "    for real, prob, name, text in zip(\n",
        "        [train_real, test_real, val_real],\n",
        "        [train_probs, test_probs, val_probs],\n",
        "        [\"train\", \"test\", \"val\"],\n",
        "        [train_texts, test_texts, val_texts]\n",
        "    ):\n",
        "        print(\n",
        "            f\"{name} Roc Auc: {roc_auc_score(real, prob)}\"\n",
        "        )\n",
        "        print(\n",
        "            f\"{name} Accuracy : {accuracy_score(real, prob > tresh)}\"\n",
        "        )\n",
        "        plt.figure(figsize=(10,5))\n",
        "        plt.title(f\"{name} Real vs Pred distribution\")\n",
        "        plt.hist(real, bins=30, label=\"Real\")\n",
        "        plt.hist(prob, bins=30, label=\"Pred\")\n",
        "        plt.legend()\n",
        "        plt.show();\n",
        "\n",
        "        plt.figure(figsize=(10,10))\n",
        "        cm = confusion_matrix(\n",
        "            real, \n",
        "            prob > tresh, \n",
        "        )\n",
        "        disp = ConfusionMatrixDisplay(\n",
        "            confusion_matrix=cm, \n",
        "        )\n",
        "        disp.plot()\n",
        "        plt.show();"
      ],
      "metadata": {
        "id": "024xwFhNuwy0"
      },
      "execution_count": 122,
      "outputs": []
    },
    {
      "cell_type": "markdown",
      "source": [
        "###CountVectorizer + LogisticRegression\n",
        "\n"
      ],
      "metadata": {
        "id": "JGajL_mBDPHF"
      }
    },
    {
      "cell_type": "code",
      "source": [
        "log_reg = best_lr_cv.fit(df_train['preprocessed_text'], df_train['label'])\n",
        "\n",
        "log_reg_train_probs = log_reg.predict_proba(df_train['preprocessed_text']) #have\n",
        "log_reg_test_probs = log_reg.predict_proba(df_test['preprocessed_text']) #have\n",
        "log_reg_val_probs = log_reg.predict_proba(df_val['preprocessed_text']) #have\n",
        "\n",
        "classification_report(\n",
        "    train_probs = log_reg_train_probs[:,1],\n",
        "    train_real = df_train[\"label\"].astype(int).values,\n",
        "    train_texts = df_train[\"preprocessed_text\"].to_list(),\n",
        "\n",
        "    test_probs=log_reg_test_probs[:,1],\n",
        "    test_real=df_test[\"label\"].astype(int).values,\n",
        "    test_texts=df_test[\"preprocessed_text\"].to_list(),\n",
        "\n",
        "    val_probs=log_reg_val_probs[:,1],\n",
        "    val_real=df_val[\"label\"].astype(int).values,\n",
        "    val_texts=df_val[\"preprocessed_text\"].to_list(),\n",
        ")"
      ],
      "metadata": {
        "colab": {
          "base_uri": "https://localhost:8080/",
          "height": 1000
        },
        "id": "XTb995zzu3U5",
        "outputId": "087672a5-b677-4e51-97bf-98a3842b01c9"
      },
      "execution_count": 123,
      "outputs": [
        {
          "output_type": "stream",
          "name": "stdout",
          "text": [
            "train Roc Auc: 0.9839708333805837\n",
            "train Accuracy : 0.6793540945790081\n"
          ]
        },
        {
          "output_type": "display_data",
          "data": {
            "text/plain": [
              "<Figure size 720x360 with 1 Axes>"
            ],
            "image/png": "[encoded data removed]"
          },
          "metadata": {
            "needs_background": "light"
          }
        },
        {
          "output_type": "display_data",
          "data": {
            "text/plain": [
              "<Figure size 720x720 with 0 Axes>"
            ]
          },
          "metadata": {}
        },
        {
          "output_type": "display_data",
          "data": {
            "text/plain": [
              "<Figure size 432x288 with 2 Axes>"
            ],
            "image/png": "[encoded data removed]"
          },
          "metadata": {
            "needs_background": "light"
          }
        },
        {
          "output_type": "stream",
          "name": "stdout",
          "text": [
            "test Roc Auc: 0.7789711505039971\n",
            "test Accuracy : 0.5661157024793388\n"
          ]
        },
        {
          "output_type": "display_data",
          "data": {
            "text/plain": [
              "<Figure size 720x360 with 1 Axes>"
            ],
            "image/png": "[encoded data removed]"
          },
          "metadata": {
            "needs_background": "light"
          }
        },
        {
          "output_type": "display_data",
          "data": {
            "text/plain": [
              "<Figure size 720x720 with 0 Axes>"
            ]
          },
          "metadata": {}
        },
        {
          "output_type": "display_data",
          "data": {
            "text/plain": [
              "<Figure size 432x288 with 2 Axes>"
            ],
            "image/png": "[encoded data removed]"
          },
          "metadata": {
            "needs_background": "light"
          }
        },
        {
          "output_type": "stream",
          "name": "stdout",
          "text": [
            "val Roc Auc: 0.7190852625635233\n",
            "val Accuracy : 0.6260162601626016\n"
          ]
        },
        {
          "output_type": "display_data",
          "data": {
            "text/plain": [
              "<Figure size 720x360 with 1 Axes>"
            ],
            "image/png": "[encoded data removed]"
          },
          "metadata": {
            "needs_background": "light"
          }
        },
        {
          "output_type": "display_data",
          "data": {
            "text/plain": [
              "<Figure size 720x720 with 0 Axes>"
            ]
          },
          "metadata": {}
        },
        {
          "output_type": "display_data",
          "data": {
            "text/plain": [
              "<Figure size 432x288 with 2 Axes>"
            ],
            "image/png": "[encoded data removed]"
          },
          "metadata": {
            "needs_background": "light"
          }
        }
      ]
    },
    {
      "cell_type": "markdown",
      "source": [
        "### Tfidfvectorizer + LogisticRegression\n"
      ],
      "metadata": {
        "id": "l7zZGAe3EiK2"
      }
    },
    {
      "cell_type": "code",
      "source": [
        "log_reg = best_lr_tf.fit(df_train['preprocessed_text'], df_train['label'])\n",
        "\n",
        "log_reg_train_probs = log_reg.predict_proba(df_train['preprocessed_text']) #have\n",
        "log_reg_test_probs = log_reg.predict_proba(df_test['preprocessed_text']) #have\n",
        "log_reg_val_probs = log_reg.predict_proba(df_val['preprocessed_text']) #have\n",
        "\n",
        "classification_report(\n",
        "    train_probs = log_reg_train_probs[:,1],\n",
        "    train_real = df_train[\"label\"].astype(int).values,\n",
        "    train_texts = df_train[\"preprocessed_text\"].to_list(),\n",
        "\n",
        "    test_probs=log_reg_test_probs[:,1],\n",
        "    test_real=df_test[\"label\"].astype(int).values,\n",
        "    test_texts=df_test[\"preprocessed_text\"].to_list(),\n",
        "\n",
        "    val_probs=log_reg_val_probs[:,1],\n",
        "    val_real=df_val[\"label\"].astype(int).values,\n",
        "    val_texts=df_val[\"preprocessed_text\"].to_list(),\n",
        ")"
      ],
      "metadata": {
        "colab": {
          "base_uri": "https://localhost:8080/",
          "height": 1000
        },
        "id": "Sip25i98Ehkk",
        "outputId": "99acddb4-137d-4745-e52a-3c9fe434d32f"
      },
      "execution_count": 124,
      "outputs": [
        {
          "output_type": "stream",
          "name": "stdout",
          "text": [
            "train Roc Auc: 0.9839708333805837\n",
            "train Accuracy : 0.6793540945790081\n"
          ]
        },
        {
          "output_type": "display_data",
          "data": {
            "text/plain": [
              "<Figure size 720x360 with 1 Axes>"
            ],
            "image/png": "[encoded data removed]"
          },
          "metadata": {
            "needs_background": "light"
          }
        },
        {
          "output_type": "display_data",
          "data": {
            "text/plain": [
              "<Figure size 720x720 with 0 Axes>"
            ]
          },
          "metadata": {}
        },
        {
          "output_type": "display_data",
          "data": {
            "text/plain": [
              "<Figure size 432x288 with 2 Axes>"
            ],
            "image/png": "[encoded data removed]"
          },
          "metadata": {
            "needs_background": "light"
          }
        },
        {
          "output_type": "stream",
          "name": "stdout",
          "text": [
            "test Roc Auc: 0.7789711505039971\n",
            "test Accuracy : 0.5661157024793388\n"
          ]
        },
        {
          "output_type": "display_data",
          "data": {
            "text/plain": [
              "<Figure size 720x360 with 1 Axes>"
            ],
            "image/png": "[encoded data removed]"
          },
          "metadata": {
            "needs_background": "light"
          }
        },
        {
          "output_type": "display_data",
          "data": {
            "text/plain": [
              "<Figure size 720x720 with 0 Axes>"
            ]
          },
          "metadata": {}
        },
        {
          "output_type": "display_data",
          "data": {
            "text/plain": [
              "<Figure size 432x288 with 2 Axes>"
            ],
            "image/png": "[encoded data removed]"
          },
          "metadata": {
            "needs_background": "light"
          }
        },
        {
          "output_type": "stream",
          "name": "stdout",
          "text": [
            "val Roc Auc: 0.7190852625635233\n",
            "val Accuracy : 0.6260162601626016\n"
          ]
        },
        {
          "output_type": "display_data",
          "data": {
            "text/plain": [
              "<Figure size 720x360 with 1 Axes>"
            ],
            "image/png": "[encoded data removed]"
          },
          "metadata": {
            "needs_background": "light"
          }
        },
        {
          "output_type": "display_data",
          "data": {
            "text/plain": [
              "<Figure size 720x720 with 0 Axes>"
            ]
          },
          "metadata": {}
        },
        {
          "output_type": "display_data",
          "data": {
            "text/plain": [
              "<Figure size 432x288 with 2 Axes>"
            ],
            "image/png": "[encoded data removed]"
          },
          "metadata": {
            "needs_background": "light"
          }
        }
      ]
    },
    {
      "cell_type": "markdown",
      "source": [
        "### Sentence Embeddings + Logistic Regression"
      ],
      "metadata": {
        "id": "bdETMM-eGsJZ"
      }
    },
    {
      "cell_type": "code",
      "source": [
        "log_reg = best_emb.fit(train_embs, train['label'])\n",
        "\n",
        "log_reg_train_probs = log_reg.predict_proba(train_embs) \n",
        "log_reg_test_probs = log_reg.predict_proba(test_embs) \n",
        "log_reg_val_probs = log_reg.predict_proba(val_embs) \n",
        "\n",
        "classification_report(\n",
        "    train_probs = log_reg_train_probs[:,1],\n",
        "    train_real = train[\"label\"].astype(int).values,\n",
        "    train_texts = train_embs,\n",
        "\n",
        "    test_probs=log_reg_test_probs[:,1],\n",
        "    test_real=test[\"label\"].astype(int).values,\n",
        "    test_texts=test_embs,\n",
        "\n",
        "    val_probs=log_reg_val_probs[:,1],\n",
        "    val_real=val[\"label\"].astype(int).values,\n",
        "    val_texts= val_embs,\n",
        ")\n"
      ],
      "metadata": {
        "colab": {
          "base_uri": "https://localhost:8080/",
          "height": 1000
        },
        "id": "1zTCwTidGscq",
        "outputId": "74a307a0-a505-464a-f0fa-20ec6f4ae7cb"
      },
      "execution_count": 125,
      "outputs": [
        {
          "output_type": "stream",
          "name": "stdout",
          "text": [
            "train Roc Auc: 0.9212950805322129\n",
            "train Accuracy : 0.8454545454545455\n"
          ]
        },
        {
          "output_type": "display_data",
          "data": {
            "text/plain": [
              "<Figure size 720x360 with 1 Axes>"
            ],
            "image/png": "[encoded data removed]"
          },
          "metadata": {
            "needs_background": "light"
          }
        },
        {
          "output_type": "display_data",
          "data": {
            "text/plain": [
              "<Figure size 720x720 with 0 Axes>"
            ]
          },
          "metadata": {}
        },
        {
          "output_type": "display_data",
          "data": {
            "text/plain": [
              "<Figure size 432x288 with 2 Axes>"
            ],
            "image/png": "[encoded data removed]"
          },
          "metadata": {
            "needs_background": "light"
          }
        },
        {
          "output_type": "stream",
          "name": "stdout",
          "text": [
            "test Roc Auc: 0.7576067586297934\n",
            "test Accuracy : 0.6975806451612904\n"
          ]
        },
        {
          "output_type": "display_data",
          "data": {
            "text/plain": [
              "<Figure size 720x360 with 1 Axes>"
            ],
            "image/png": "[encoded data removed]"
          },
          "metadata": {
            "needs_background": "light"
          }
        },
        {
          "output_type": "display_data",
          "data": {
            "text/plain": [
              "<Figure size 720x720 with 0 Axes>"
            ]
          },
          "metadata": {}
        },
        {
          "output_type": "display_data",
          "data": {
            "text/plain": [
              "<Figure size 432x288 with 2 Axes>"
            ],
            "image/png": "[encoded data removed]"
          },
          "metadata": {
            "needs_background": "light"
          }
        },
        {
          "output_type": "stream",
          "name": "stdout",
          "text": [
            "val Roc Auc: 0.747626582278481\n",
            "val Accuracy : 0.7086614173228346\n"
          ]
        },
        {
          "output_type": "display_data",
          "data": {
            "text/plain": [
              "<Figure size 720x360 with 1 Axes>"
            ],
            "image/png": "[encoded data removed]"
          },
          "metadata": {
            "needs_background": "light"
          }
        },
        {
          "output_type": "display_data",
          "data": {
            "text/plain": [
              "<Figure size 720x720 with 0 Axes>"
            ]
          },
          "metadata": {}
        },
        {
          "output_type": "display_data",
          "data": {
            "text/plain": [
              "<Figure size 432x288 with 2 Axes>"
            ],
            "image/png": "[encoded data removed]"
          },
          "metadata": {
            "needs_background": "light"
          }
        }
      ]
    },
    {
      "cell_type": "markdown",
      "source": [
        "###We can notice that while *roc auc scores* of all the models are quite ok, *accuracies* are really low. \n",
        "###We see a lot of false positive predictions in both Countvectorizer + Logistic Regression and Tfidfvectorizer + Logistic Regression combinations. However, Sentence Embeddings + Logistic Regression Pipeline performs a little bit better."
      ],
      "metadata": {
        "id": "5XGQAGEdcbcP"
      }
    },
    {
      "cell_type": "markdown",
      "source": [
        "#Cross Validation for RNN"
      ],
      "metadata": {
        "id": "uZaXzOk_dtn2"
      }
    },
    {
      "cell_type": "code",
      "source": [
        "def comp_metric(y_true, y_pred, verbose=True):\n",
        "    assert y_true.shape == y_pred.shape\n",
        "    class_roc_aucs = [roc_auc_score(y_true[:,i], y_pred[:,i]) for i in range(y_pred.shape[1])]\n",
        "\n",
        "    if verbose:\n",
        "        for ra, tgt_col in zip(class_roc_aucs, ['label']):\n",
        "            print(f\"{tgt_col} Roc Auc: {ra}\")\n",
        "        print(f\"Result Roc Auc: {np.mean(class_roc_aucs)}\")\n",
        "    return class_roc_aucs, np.mean(class_roc_aucs)"
      ],
      "metadata": {
        "id": "_szge05rdzPK"
      },
      "execution_count": 126,
      "outputs": []
    },
    {
      "cell_type": "code",
      "source": [
        "#RNN Class creation\n",
        "\n",
        "class UniversalRNN(nn.Module):\n",
        "    \n",
        "    def __init__(\n",
        "        self,\n",
        "        num_embeddings,\n",
        "        out_channels,\n",
        "        rnn_channels=512,\n",
        "        rnn_type=nn.GRU,\n",
        "        n_rnns=1,\n",
        "        bidirectional=True,\n",
        "        average_type=None\n",
        "    ):\n",
        "        super().__init__()\n",
        "        \n",
        "        self.embedding_layer = nn.Embedding(num_embeddings, rnn_channels)\n",
        "        #TODO: What is bidirectional ? Try unidirectional\n",
        "        #Answer: When it is bidirectional, the input flows in both directions. \n",
        "        #That's why RNN is capable of utilizing information from both sides. \n",
        "\n",
        "        self.rnns = rnn_type(\n",
        "            rnn_channels, \n",
        "            rnn_channels, \n",
        "            bidirectional=bidirectional, \n",
        "            num_layers=n_rnns,\n",
        "            batch_first=True\n",
        "        )\n",
        "        if not (average_type is None or average_type in [\"mean\", \"last\"]):\n",
        "            raise ValueError(f\"{average_type} is nit supported average_type\")\n",
        "        self.average_type = average_type\n",
        "        self.classifier = nn.Linear(\n",
        "            rnn_channels * 2 if bidirectional else rnn_channels, \n",
        "            out_channels, \n",
        "        )\n",
        "        \n",
        "    def forward(self, x):\n",
        "        x = self.embedding_layer(x)\n",
        "        x = self.rnns(x)[0]\n",
        "        if self.average_type is None:\n",
        "            x = self.classifier(x)\n",
        "        else:\n",
        "            # Dimension reminder : [Batch, Time Dimension, Channels]\n",
        "            if self.average_type == \"mean\":\n",
        "                x = x.mean(1)\n",
        "            elif self.average_type == \"last\":\n",
        "                x = x[:,-1,:]\n",
        "            x = self.classifier(x)\n",
        "        return x"
      ],
      "metadata": {
        "id": "wQnEMflG1P_l"
      },
      "execution_count": 127,
      "outputs": []
    },
    {
      "cell_type": "code",
      "source": [
        "# I have chosen spaCy tokenization algorithm for russian.\n",
        "\n",
        "tokenizer = get_tokenizer('spacy', language = 'ru_core_news_lg')\n",
        "\n",
        "def yield_tokens(data_iter):\n",
        "    for text in data_iter:\n",
        "        yield tokenizer(text)\n",
        "\n",
        "# Vocabulary\n",
        "\n",
        "vocab = build_vocab_from_iterator(\n",
        "    yield_tokens(df_train[\"preprocessed_text\"]), \n",
        "    specials=[\"<unk>\"]\n",
        ")\n",
        "vocab.set_default_index(vocab[\"<unk>\"])"
      ],
      "metadata": {
        "id": "f9V5pkyJG5d0"
      },
      "execution_count": 128,
      "outputs": []
    },
    {
      "cell_type": "code",
      "source": [
        "#Let's check vocabulary\n",
        "\n",
        "vocab.lookup_tokens([3])"
      ],
      "metadata": {
        "id": "ZiItMXjuKz2J",
        "colab": {
          "base_uri": "https://localhost:8080/"
        },
        "outputId": "bfca127f-799c-4d5c-9b67-5afe91e5dc3b"
      },
      "execution_count": 129,
      "outputs": [
        {
          "output_type": "execute_result",
          "data": {
            "text/plain": [
              "['россия']"
            ]
          },
          "metadata": {},
          "execution_count": 129
        }
      ]
    },
    {
      "cell_type": "code",
      "source": [
        "class TextDataset(torch.utils.data.Dataset):\n",
        "    def __init__(\n",
        "        self,\n",
        "        texts,\n",
        "        targets,\n",
        "        dataset_vocab,\n",
        "        dataset_tokenizer,\n",
        "        max_length,\n",
        "        trim_policy=\"random\"\n",
        "    ):\n",
        "        self.targets = targets\n",
        "        self.texts = texts\n",
        "        self.vocab = dataset_vocab\n",
        "        self.tokenizer = dataset_tokenizer\n",
        "        \n",
        "        self.max_length = max_length\n",
        "        if trim_policy not in [\"random\", \"first\"]:\n",
        "            raise ValueError(f\"{trim_policy} is not valid trim_policy\")\n",
        "        self.trim_policy = trim_policy\n",
        "        \n",
        "    def select_text_subsequance(self, input):\n",
        "        if len(input) < self.max_length:\n",
        "            return input + [0] * (self.max_length - len(input))\n",
        "        elif len(input) > self.max_length:\n",
        "            if self.trim_policy == \"random\":\n",
        "                start = np.random.randint(0, len(input) - self.max_length)\n",
        "            elif self.trim_policy == \"first\":\n",
        "                start = 0\n",
        "            return input[start : start + self.max_length]\n",
        "        else: \n",
        "            return input\n",
        "        \n",
        "    def __getitem__(self, idx):\n",
        "        text_ids = self.vocab(self.tokenizer(self.texts[idx]))\n",
        "\n",
        "        text_ids = self.select_text_subsequance(text_ids)\n",
        "        return (\n",
        "            torch.LongTensor(text_ids), \n",
        "            torch.from_numpy(np.array([self.targets[idx]])).float()\n",
        "        )\n",
        "    \n",
        "    def __len__(self):\n",
        "        return len(self.texts)"
      ],
      "metadata": {
        "id": "1ilbZyHjLP7y"
      },
      "execution_count": 130,
      "outputs": []
    },
    {
      "cell_type": "code",
      "source": [
        "# Let's figure out optimal length of a tensor\n",
        "# Let it be 100.\n",
        "\n",
        "train_n_tokens = df_train[\"preprocessed_text\"].apply(lambda x : len(tokenizer(x)))\n",
        "\n",
        "plt.title(\"Train N Tokens Distribution\")\n",
        "train_n_tokens.hist(bins=200, figsize = (25,10))\n",
        "plt.show()\n",
        "\n",
        "print(f\"0.95 Quantile of N tokens: {np.quantile(train_n_tokens, 0.95)}\")"
      ],
      "metadata": {
        "id": "PzaNgR5_LXdD",
        "colab": {
          "base_uri": "https://localhost:8080/",
          "height": 579
        },
        "outputId": "c8a549ca-f434-49a1-8310-1a429c722daf"
      },
      "execution_count": 131,
      "outputs": [
        {
          "output_type": "display_data",
          "data": {
            "text/plain": [
              "<Figure size 1800x720 with 1 Axes>"
            ],
            "image/png": "[encoded data removed]"
          },
          "metadata": {
            "needs_background": "light"
          }
        },
        {
          "output_type": "stream",
          "name": "stdout",
          "text": [
            "0.95 Quantile of N tokens: 82.39999999999986\n"
          ]
        }
      ]
    },
    {
      "cell_type": "code",
      "source": [
        "train_torch_dataset = TextDataset(\n",
        "    texts= df_train[\"preprocessed_text\"].to_list(),\n",
        "    targets=df_train['label'].values,\n",
        "    dataset_vocab=vocab,\n",
        "    dataset_tokenizer=tokenizer,\n",
        "    max_length=100)"
      ],
      "metadata": {
        "id": "nkfXDoOlM5-l"
      },
      "execution_count": 132,
      "outputs": []
    },
    {
      "cell_type": "code",
      "source": [
        "doc_idx = 32\n",
        "\n",
        "doc_ids, doc_target = train_torch_dataset[doc_idx]\n",
        "print(\n",
        "    f\"Text: {train_torch_dataset.texts[doc_idx]}\\n\"\n",
        "    f\"Text Ids: {doc_ids}\\n\"\n",
        "    f\"Target: {doc_target}\\n\"\n",
        "    f\"Text Ids length: {len(doc_ids)}\"\n",
        ")"
      ],
      "metadata": {
        "id": "dSAHEsI5RVY5",
        "colab": {
          "base_uri": "https://localhost:8080/"
        },
        "outputId": "4f18b26a-9aa9-4ad4-8bcd-295c571965a7"
      },
      "execution_count": 133,
      "outputs": [
        {
          "output_type": "stream",
          "name": "stdout",
          "text": [
            "Text: сегодня подтвердиться наш инсайд зеленский отказаться эвакуироваться президент украина отклонить просьба сша эвакуация киев заявить нужный боеприпас транспорт 10420\n",
            "Text Ids: tensor([  75, 1567,    9, 1433,   39,  732, 5939,   48,    1, 4534,  750,   86,\n",
            "        2642,   10,   12,  116,  492, 1243, 2668,    0,    0,    0,    0,    0,\n",
            "           0,    0,    0,    0,    0,    0,    0,    0,    0,    0,    0,    0,\n",
            "           0,    0,    0,    0,    0,    0,    0,    0,    0,    0,    0,    0,\n",
            "           0,    0,    0,    0,    0,    0,    0,    0,    0,    0,    0,    0,\n",
            "           0,    0,    0,    0,    0,    0,    0,    0,    0,    0,    0,    0,\n",
            "           0,    0,    0,    0,    0,    0,    0,    0,    0,    0,    0,    0,\n",
            "           0,    0,    0,    0,    0,    0,    0,    0,    0,    0,    0,    0,\n",
            "           0,    0,    0,    0])\n",
            "Target: tensor([0.])\n",
            "Text Ids length: 100\n"
          ]
        }
      ]
    },
    {
      "cell_type": "code",
      "source": [
        "#Maybe max_length was chosen incorrectly because tensors contain a lot of zeros.\n",
        "\n",
        "train_torch_dataloader = torch.utils.data.DataLoader(\n",
        "    train_torch_dataset,\n",
        "    batch_size=4,\n",
        "    shuffle=True,\n",
        "    drop_last=True,\n",
        "    num_workers=2,\n",
        "    pin_memory=True\n",
        ")\n",
        "\n",
        "for batch in train_torch_dataloader:\n",
        "    break\n",
        "    \n",
        "print(\n",
        "    f\"`Text` batch:\\n{batch[0]}\\n\"\n",
        "    f\"`Target` batch:\\n{batch[1]}\"\n",
        ")"
      ],
      "metadata": {
        "id": "6La-VNRYPbwq",
        "colab": {
          "base_uri": "https://localhost:8080/"
        },
        "outputId": "32b0a10e-d536-4705-d465-c73a423387c6"
      },
      "execution_count": 134,
      "outputs": [
        {
          "output_type": "stream",
          "name": "stdout",
          "text": [
            "`Text` batch:\n",
            "tensor([[   2, 2230,  363,   21,  118, 2321,  258,  285,  594,  183,    5,  235,\n",
            "            8,  519,    0,    0,    0,    0,    0,    0,    0,    0,    0,    0,\n",
            "            0,    0,    0,    0,    0,    0,    0,    0,    0,    0,    0,    0,\n",
            "            0,    0,    0,    0,    0,    0,    0,    0,    0,    0,    0,    0,\n",
            "            0,    0,    0,    0,    0,    0,    0,    0,    0,    0,    0,    0,\n",
            "            0,    0,    0,    0,    0,    0,    0,    0,    0,    0,    0,    0,\n",
            "            0,    0,    0,    0,    0,    0,    0,    0,    0,    0,    0,    0,\n",
            "            0,    0,    0,    0,    0,    0,    0,    0,    0,    0,    0,    0,\n",
            "            0,    0,    0,    0],\n",
            "        [ 136,    3, 1145,   74,  666, 1445,  316,   79,  715, 2306,  203,  244,\n",
            "          738,  101,  238,   74,   53,   74, 1509,  238,  267, 1527,  818,  127,\n",
            "          203,  419,  875,  234,  101,  738,  203,  889, 1608,   42,  465,  263,\n",
            "          550,   59, 1057, 1431,  184,  234, 1691,  853,    0,    0,    0,    0,\n",
            "            0,    0,    0,    0,    0,    0,    0,    0,    0,    0,    0,    0,\n",
            "            0,    0,    0,    0,    0,    0,    0,    0,    0,    0,    0,    0,\n",
            "            0,    0,    0,    0,    0,    0,    0,    0,    0,    0,    0,    0,\n",
            "            0,    0,    0,    0,    0,    0,    0,    0,    0,    0,    0,    0,\n",
            "            0,    0,    0,    0],\n",
            "        [ 319, 3946,  488,   87,  383,    4, 3332, 2533, 1214,  595, 1437,  504,\n",
            "          125,    0,    0,    0,    0,    0,    0,    0,    0,    0,    0,    0,\n",
            "            0,    0,    0,    0,    0,    0,    0,    0,    0,    0,    0,    0,\n",
            "            0,    0,    0,    0,    0,    0,    0,    0,    0,    0,    0,    0,\n",
            "            0,    0,    0,    0,    0,    0,    0,    0,    0,    0,    0,    0,\n",
            "            0,    0,    0,    0,    0,    0,    0,    0,    0,    0,    0,    0,\n",
            "            0,    0,    0,    0,    0,    0,    0,    0,    0,    0,    0,    0,\n",
            "            0,    0,    0,    0,    0,    0,    0,    0,    0,    0,    0,    0,\n",
            "            0,    0,    0,    0],\n",
            "        [ 498, 2079,  361,  195, 4166, 3186,  429,    6, 3295, 3793, 2472, 5717,\n",
            "         2400,  810, 3406,  226, 4706, 4401,   28,  765,  730,  118,  478,  257,\n",
            "           73,  183,  396, 3012, 2585,  931, 1361,  322,  476,  109,  918,   13,\n",
            "            0,    0,    0,    0,    0,    0,    0,    0,    0,    0,    0,    0,\n",
            "            0,    0,    0,    0,    0,    0,    0,    0,    0,    0,    0,    0,\n",
            "            0,    0,    0,    0,    0,    0,    0,    0,    0,    0,    0,    0,\n",
            "            0,    0,    0,    0,    0,    0,    0,    0,    0,    0,    0,    0,\n",
            "            0,    0,    0,    0,    0,    0,    0,    0,    0,    0,    0,    0,\n",
            "            0,    0,    0,    0]])\n",
            "`Target` batch:\n",
            "tensor([[1.],\n",
            "        [1.],\n",
            "        [0.],\n",
            "        [1.]])\n"
          ]
        }
      ]
    },
    {
      "cell_type": "markdown",
      "source": [
        "### PyTorch Train and Validation loop"
      ],
      "metadata": {
        "id": "6P323GCKZiGG"
      }
    },
    {
      "cell_type": "code",
      "source": [
        "def torch_loop(\n",
        "    dataloader, \n",
        "    inp_model,\n",
        "    inp_optimizer,\n",
        "    inp_criterion,\n",
        "    mode=\"train\",\n",
        "    device=\"cpu\"\n",
        "):\n",
        "    # TODO: Read about train and eval modes on official Torch Docs. What do they change ?\n",
        "    # Answer: They have effect only on certain modules. \n",
        "\n",
        "    if mode == \"train\":\n",
        "        inp_model.train()\n",
        "    else:\n",
        "        inp_model.eval()\n",
        "    all_predicted_label = []\n",
        "    all_losses = []\n",
        "    all_targets = []\n",
        "\n",
        "    # We need this context in order to control gradient computation\n",
        "    # mode == True - gradient will NOT be computed, mode == False - gradient will be computed\n",
        "    with torch.inference_mode(mode=(mode != \"train\")):\n",
        "        for text, label in tqdm(dataloader):\n",
        "            text, label = text.to(device), label.to(device)\n",
        "            if mode == \"train\":\n",
        "                inp_optimizer.zero_grad()\n",
        "            # 1.1 Compute Forward path\n",
        "            predicted_label = inp_model(text)\n",
        "            # 1.2 Compute Cost function (part of Forward path)\n",
        "            loss = criterion(predicted_label, label)\n",
        "            if mode == \"train\":\n",
        "                loss.mean().backward()\n",
        "                optimizer.step()\n",
        "\n",
        "            all_predicted_label.append(torch.sigmoid(predicted_label.detach()).cpu().numpy())\n",
        "            all_losses.append(loss.detach().cpu().numpy())\n",
        "            all_targets.append(label.detach().cpu().numpy())\n",
        "\n",
        "    all_predicted_label = np.concatenate(all_predicted_label)\n",
        "    all_losses = np.concatenate(all_losses)\n",
        "    all_targets = np.concatenate(all_targets)\n",
        "    \n",
        "    return all_predicted_label, all_losses, all_targets\n",
        "\n",
        "\n",
        "def print_losses(input):\n",
        "  for cls_idx, tgt_col in enumerate(['label']):\n",
        "      print(f\"{tgt_col} BCE loss: {input[:,cls_idx].mean()}\")\n",
        "  print(f\"Result BCE loss: {input.mean()}\")"
      ],
      "metadata": {
        "id": "dw0v2S8pNLis"
      },
      "execution_count": 135,
      "outputs": []
    },
    {
      "cell_type": "code",
      "source": [
        "nn_model = UniversalRNN(\n",
        "    num_embeddings=len(vocab),\n",
        "    out_channels=1,\n",
        "    average_type=\"mean\"\n",
        ").to(\"cpu\")\n",
        "\n",
        "criterion = torch.nn.BCEWithLogitsLoss(reduction=\"none\")\n",
        "optimizer = torch.optim.Adam(nn_model.parameters(), lr=0.001)\n",
        "scheduler = torch.optim.lr_scheduler.ReduceLROnPlateau(optimizer, patience=1, factor=0.5, min_lr=1e-7, mode=\"max\", verbose=True)"
      ],
      "metadata": {
        "id": "lHLpAcDfZlBR"
      },
      "execution_count": 136,
      "outputs": []
    },
    {
      "cell_type": "code",
      "source": [
        "train_torch_dataset = TextDataset(\n",
        "    texts = df_train.iloc[all_folds[0][0]][\"preprocessed_text\"].to_list(),\n",
        "    targets =df_train.iloc[all_folds[0][0]][\"label\"].values,\n",
        "    dataset_vocab=vocab,\n",
        "    dataset_tokenizer=tokenizer,\n",
        "    max_length=100,\n",
        ")\n",
        "train_torch_dataloader = torch.utils.data.DataLoader(\n",
        "    train_torch_dataset,\n",
        "    batch_size=4,\n",
        "    shuffle=True,\n",
        "    drop_last=True,\n",
        "    num_workers=2,\n",
        "    pin_memory=True\n",
        ")\n",
        "\n",
        "valid_torch_dataset = TextDataset(\n",
        "    texts=df_train.iloc[all_folds[0][1]][\"preprocessed_text\"].to_list(),\n",
        "    targets=df_train.iloc[all_folds[0][1]]['label'].values,\n",
        "    dataset_vocab=vocab,\n",
        "    dataset_tokenizer=tokenizer,\n",
        "    max_length=100,\n",
        "    trim_policy=\"first\"\n",
        ")\n",
        "valid_torch_dataloader = torch.utils.data.DataLoader(\n",
        "    valid_torch_dataset,\n",
        "    batch_size=4,\n",
        "    shuffle=False,\n",
        "    drop_last=False,\n",
        "    num_workers=2,\n",
        "    pin_memory=True\n",
        ")"
      ],
      "metadata": {
        "id": "aGpWj6S2bQ81"
      },
      "execution_count": 137,
      "outputs": []
    },
    {
      "cell_type": "code",
      "source": [
        "# TODO: Try to train longer \n",
        "# We have chosen 5 epochs instead of 3.\n",
        "\n",
        "n_epochs = 5\n",
        "\n",
        "train_all_epoch_labels = []\n",
        "train_all_epoch_losses = []\n",
        "train_all_epoch_targets = []\n",
        "valid_all_epoch_labels = []\n",
        "valid_all_epoch_losses = []\n",
        "valid_all_epoch_targets = []\n",
        "valid_roc_aucs = []\n",
        "train_roc_aucs = []\n",
        "\n",
        "best_metric = - np.inf\n",
        "best_model_state_dict = None\n",
        "\n",
        "for epoch in range(1, n_epochs + 1):\n",
        "    print(f\"Starting Epoch {epoch}\")\n",
        "    # 1.1 Iterate over all train dataset and update model weights\n",
        "    print(\"Train phase\")\n",
        "    train_epoch_labels, train_epoch_losses, train_epoch_targets = torch_loop(\n",
        "        dataloader=train_torch_dataloader, \n",
        "        inp_model=nn_model,\n",
        "        inp_optimizer=optimizer,\n",
        "        inp_criterion=criterion,\n",
        "        device=\"cpu\",\n",
        "        mode=\"train\"\n",
        "    )\n",
        "    # 1.2 Compute and print train metrics\n",
        "    print(\"Train metrics\")\n",
        "    _, train_roc_auc = comp_metric(\n",
        "        train_epoch_targets, \n",
        "        train_epoch_labels\n",
        "    )\n",
        "    print(\"Train BCE losses\")\n",
        "    print_losses(train_epoch_losses)\n",
        "    # 2.1 Iterate over all valid dataset and compute predictions\n",
        "    print(\"Valid phase\")\n",
        "    valid_epoch_labels, valid_epoch_losses, valid_epoch_targets = torch_loop(\n",
        "        dataloader=valid_torch_dataloader, \n",
        "        inp_model=nn_model,\n",
        "        inp_optimizer=optimizer,\n",
        "        inp_criterion=criterion,\n",
        "        device=\"cpu\",\n",
        "        mode=\"eval\"\n",
        "    )\n",
        "    # 2.2 Compute and print valid metrics\n",
        "    print(\"Valid metrics\")\n",
        "    _, valid_roc_auc = comp_metric(\n",
        "        valid_epoch_targets, \n",
        "        valid_epoch_labels\n",
        "    )\n",
        "    print(\"Valid BCE losses\")\n",
        "    print_losses(valid_epoch_losses)\n",
        "    # 3. Update learning rate (if needed)\n",
        "    scheduler.step(valid_roc_auc)\n",
        "    # 4. Save best model\n",
        "    if valid_roc_auc > best_metric:\n",
        "        best_metric = valid_roc_auc\n",
        "        best_model_state_dict = deepcopy(nn_model.state_dict())\n",
        "    # 5. Accumulate all stats  \n",
        "    train_all_epoch_labels.append(train_epoch_labels)\n",
        "    train_all_epoch_losses.append(train_epoch_losses)\n",
        "    train_all_epoch_targets.append(train_epoch_targets)\n",
        "    valid_all_epoch_labels.append(valid_epoch_labels)\n",
        "    valid_all_epoch_losses.append(valid_epoch_losses)\n",
        "    valid_all_epoch_targets.append(valid_epoch_targets)\n",
        "    valid_roc_aucs.append(valid_roc_auc)\n",
        "    train_roc_aucs.append(train_roc_auc)"
      ],
      "metadata": {
        "id": "tmtScpmDe3H6",
        "colab": {
          "base_uri": "https://localhost:8080/"
        },
        "outputId": "f6c58545-29e6-457b-c5eb-ad17406bcb98"
      },
      "execution_count": 138,
      "outputs": [
        {
          "output_type": "stream",
          "name": "stdout",
          "text": [
            "Starting Epoch 1\n",
            "Train phase\n"
          ]
        },
        {
          "output_type": "stream",
          "name": "stderr",
          "text": [
            "100%|██████████| 173/173 [01:45<00:00,  1.64it/s]\n"
          ]
        },
        {
          "output_type": "stream",
          "name": "stdout",
          "text": [
            "Train metrics\n",
            "label Roc Auc: 0.5596777065527065\n",
            "Result Roc Auc: 0.5596777065527065\n",
            "Train BCE losses\n",
            "label BCE loss: 0.6913576126098633\n",
            "Result BCE loss: 0.6913576126098633\n",
            "Valid phase\n"
          ]
        },
        {
          "output_type": "stream",
          "name": "stderr",
          "text": [
            "100%|██████████| 44/44 [00:06<00:00,  7.28it/s]\n"
          ]
        },
        {
          "output_type": "stream",
          "name": "stdout",
          "text": [
            "Valid metrics\n",
            "label Roc Auc: 0.679181369089626\n",
            "Result Roc Auc: 0.679181369089626\n",
            "Valid BCE losses\n",
            "label BCE loss: 0.6508134603500366\n",
            "Result BCE loss: 0.6508134603500366\n",
            "Starting Epoch 2\n",
            "Train phase\n"
          ]
        },
        {
          "output_type": "stream",
          "name": "stderr",
          "text": [
            "100%|██████████| 173/173 [01:41<00:00,  1.70it/s]\n"
          ]
        },
        {
          "output_type": "stream",
          "name": "stdout",
          "text": [
            "Train metrics\n",
            "label Roc Auc: 0.8675836894586895\n",
            "Result Roc Auc: 0.8675836894586895\n",
            "Train BCE losses\n",
            "label BCE loss: 0.4317857027053833\n",
            "Result BCE loss: 0.4317857027053833\n",
            "Valid phase\n"
          ]
        },
        {
          "output_type": "stream",
          "name": "stderr",
          "text": [
            "100%|██████████| 44/44 [00:05<00:00,  7.93it/s]\n"
          ]
        },
        {
          "output_type": "stream",
          "name": "stdout",
          "text": [
            "Valid metrics\n",
            "label Roc Auc: 0.6866619618913198\n",
            "Result Roc Auc: 0.6866619618913198\n",
            "Valid BCE losses\n",
            "label BCE loss: 0.6726925373077393\n",
            "Result BCE loss: 0.6726925373077393\n",
            "Starting Epoch 3\n",
            "Train phase\n"
          ]
        },
        {
          "output_type": "stream",
          "name": "stderr",
          "text": [
            "100%|██████████| 173/173 [01:43<00:00,  1.68it/s]\n"
          ]
        },
        {
          "output_type": "stream",
          "name": "stdout",
          "text": [
            "Train metrics\n",
            "label Roc Auc: 0.9857371794871794\n",
            "Result Roc Auc: 0.9857371794871794\n",
            "Train BCE losses\n",
            "label BCE loss: 0.14259769022464752\n",
            "Result BCE loss: 0.14259769022464752\n",
            "Valid phase\n"
          ]
        },
        {
          "output_type": "stream",
          "name": "stderr",
          "text": [
            "100%|██████████| 44/44 [00:07<00:00,  5.88it/s]\n"
          ]
        },
        {
          "output_type": "stream",
          "name": "stdout",
          "text": [
            "Valid metrics\n",
            "label Roc Auc: 0.6167960479887085\n",
            "Result Roc Auc: 0.6167960479887085\n",
            "Valid BCE losses\n",
            "label BCE loss: 1.0762317180633545\n",
            "Result BCE loss: 1.0762317180633545\n",
            "Starting Epoch 4\n",
            "Train phase\n"
          ]
        },
        {
          "output_type": "stream",
          "name": "stderr",
          "text": [
            "100%|██████████| 173/173 [01:42<00:00,  1.68it/s]\n"
          ]
        },
        {
          "output_type": "stream",
          "name": "stdout",
          "text": [
            "Train metrics\n",
            "label Roc Auc: 0.9983618233618233\n",
            "Result Roc Auc: 0.9983618233618233\n",
            "Train BCE losses\n",
            "label BCE loss: 0.03898470103740692\n",
            "Result BCE loss: 0.03898470103740692\n",
            "Valid phase\n"
          ]
        },
        {
          "output_type": "stream",
          "name": "stderr",
          "text": [
            "100%|██████████| 44/44 [00:05<00:00,  7.55it/s]\n"
          ]
        },
        {
          "output_type": "stream",
          "name": "stdout",
          "text": [
            "Valid metrics\n",
            "label Roc Auc: 0.6427664079040225\n",
            "Result Roc Auc: 0.6427664079040225\n",
            "Valid BCE losses\n",
            "label BCE loss: 1.2212741374969482\n",
            "Result BCE loss: 1.2212741374969482\n",
            "Epoch 00004: reducing learning rate of group 0 to 5.0000e-04.\n",
            "Starting Epoch 5\n",
            "Train phase\n"
          ]
        },
        {
          "output_type": "stream",
          "name": "stderr",
          "text": [
            "100%|██████████| 173/173 [01:42<00:00,  1.68it/s]\n"
          ]
        },
        {
          "output_type": "stream",
          "name": "stdout",
          "text": [
            "Train metrics\n",
            "label Roc Auc: 0.9999643874643875\n",
            "Result Roc Auc: 0.9999643874643875\n",
            "Train BCE losses\n",
            "label BCE loss: 0.009973851032555103\n",
            "Result BCE loss: 0.009973851032555103\n",
            "Valid phase\n"
          ]
        },
        {
          "output_type": "stream",
          "name": "stderr",
          "text": [
            "100%|██████████| 44/44 [00:05<00:00,  8.34it/s]"
          ]
        },
        {
          "output_type": "stream",
          "name": "stdout",
          "text": [
            "Valid metrics\n",
            "label Roc Auc: 0.6383909668313338\n",
            "Result Roc Auc: 0.6383909668313338\n",
            "Valid BCE losses\n",
            "label BCE loss: 1.335800290107727\n",
            "Result BCE loss: 1.335800290107727\n"
          ]
        },
        {
          "output_type": "stream",
          "name": "stderr",
          "text": [
            "\n"
          ]
        }
      ]
    },
    {
      "cell_type": "code",
      "source": [
        "plt.title(\"Roc Auc dynamic\")\n",
        "plt.plot(valid_roc_aucs, label=\"valid\")\n",
        "plt.plot(train_roc_aucs, label=\"train\")\n",
        "plt.legend()\n",
        "plt.show()"
      ],
      "metadata": {
        "id": "geY0_0EhoWdU",
        "colab": {
          "base_uri": "https://localhost:8080/",
          "height": 281
        },
        "outputId": "73b4fc56-528a-40e5-8c39-5db490719c49"
      },
      "execution_count": 139,
      "outputs": [
        {
          "output_type": "display_data",
          "data": {
            "text/plain": [
              "<Figure size 432x288 with 1 Axes>"
            ],
            "image/png": "[encoded data removed]"
          },
          "metadata": {
            "needs_background": "light"
          }
        }
      ]
    },
    {
      "cell_type": "code",
      "source": [
        "# Loading the best model\n",
        "nn_model.load_state_dict(best_model_state_dict)\n",
        "\n",
        "test_torch_dataset = TextDataset(\n",
        "    texts=df_test[\"preprocessed_text\"].to_list(),\n",
        "    targets=df_test['label'].values,\n",
        "    dataset_vocab=vocab,\n",
        "    dataset_tokenizer=tokenizer,\n",
        "    max_length=100,\n",
        "    trim_policy=\"first\"\n",
        ")\n",
        "test_torch_dataloader = torch.utils.data.DataLoader(\n",
        "    test_torch_dataset,\n",
        "    batch_size=4,\n",
        "    shuffle=False,\n",
        "    drop_last=False,\n",
        "    num_workers=2,\n",
        "    pin_memory=True\n",
        ")\n",
        "\n",
        "test_labels, test_losses, test_targets = torch_loop(\n",
        "    dataloader=test_torch_dataloader, \n",
        "    inp_model=nn_model,\n",
        "    inp_optimizer=optimizer,\n",
        "    inp_criterion=criterion,\n",
        "    device=\"cpu\",\n",
        "    mode=\"eval\"\n",
        ")"
      ],
      "metadata": {
        "id": "EU-al1gGobah",
        "colab": {
          "base_uri": "https://localhost:8080/"
        },
        "outputId": "662bf283-08fe-4a41-a5e9-12cdd8d297f0"
      },
      "execution_count": 140,
      "outputs": [
        {
          "output_type": "stream",
          "name": "stderr",
          "text": [
            "100%|██████████| 61/61 [00:09<00:00,  6.65it/s]\n"
          ]
        }
      ]
    },
    {
      "cell_type": "code",
      "source": [
        "print(\"Test metrics\")\n",
        "comp_metric(\n",
        "    test_targets, \n",
        "    test_labels\n",
        ");\n",
        "print(\"Test BCE losses\")\n",
        "print_losses(test_losses)"
      ],
      "metadata": {
        "id": "eAx0BUpGonub",
        "colab": {
          "base_uri": "https://localhost:8080/"
        },
        "outputId": "f486dcf4-8286-4b9b-b821-1495b010fcaa"
      },
      "execution_count": 141,
      "outputs": [
        {
          "output_type": "stream",
          "name": "stdout",
          "text": [
            "Test metrics\n",
            "label Roc Auc: 0.7120264164059784\n",
            "Result Roc Auc: 0.7120264164059784\n",
            "Test BCE losses\n",
            "label BCE loss: 0.6481693983078003\n",
            "Result BCE loss: 0.6481693983078003\n"
          ]
        }
      ]
    },
    {
      "cell_type": "markdown",
      "source": [
        "###As we can see roc auc scores after RNN are also not very high."
      ],
      "metadata": {
        "id": "sjNwA4KtLEYa"
      }
    },
    {
      "cell_type": "code",
      "source": [],
      "metadata": {
        "id": "Ylkmf1vXLaxQ"
      },
      "execution_count": 141,
      "outputs": []
    }
  ]
}